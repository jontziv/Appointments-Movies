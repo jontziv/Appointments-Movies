{
 "cells": [
  {
   "cell_type": "markdown",
   "id": "7851bea8",
   "metadata": {},
   "source": [
    "## Machine Learning & Classification"
   ]
  },
  {
   "cell_type": "code",
   "execution_count": 1,
   "id": "374ff5da",
   "metadata": {},
   "outputs": [],
   "source": [
    "import pandas as pd"
   ]
  },
  {
   "cell_type": "code",
   "execution_count": 2,
   "id": "11bcac49",
   "metadata": {},
   "outputs": [
    {
     "data": {
      "text/html": [
       "<div>\n",
       "<style scoped>\n",
       "    .dataframe tbody tr th:only-of-type {\n",
       "        vertical-align: middle;\n",
       "    }\n",
       "\n",
       "    .dataframe tbody tr th {\n",
       "        vertical-align: top;\n",
       "    }\n",
       "\n",
       "    .dataframe thead th {\n",
       "        text-align: right;\n",
       "    }\n",
       "</style>\n",
       "<table border=\"1\" class=\"dataframe\">\n",
       "  <thead>\n",
       "    <tr style=\"text-align: right;\">\n",
       "      <th></th>\n",
       "      <th>Noshow</th>\n",
       "      <th>SMSreceived</th>\n",
       "      <th>Age</th>\n",
       "      <th>GenderM</th>\n",
       "      <th>Scholarship</th>\n",
       "      <th>Hipertension</th>\n",
       "      <th>Diabetes</th>\n",
       "      <th>Alcoholism</th>\n",
       "      <th>Handcap</th>\n",
       "      <th>TimeGapDays</th>\n",
       "      <th>prevNoshow</th>\n",
       "      <th>WeekDay</th>\n",
       "      <th>AgeCategory</th>\n",
       "      <th>WaitingTimeCategory</th>\n",
       "      <th>TotalConditions</th>\n",
       "    </tr>\n",
       "  </thead>\n",
       "  <tbody>\n",
       "    <tr>\n",
       "      <th>0</th>\n",
       "      <td>0</td>\n",
       "      <td>1</td>\n",
       "      <td>84.0</td>\n",
       "      <td>True</td>\n",
       "      <td>0</td>\n",
       "      <td>1</td>\n",
       "      <td>1</td>\n",
       "      <td>0</td>\n",
       "      <td>1</td>\n",
       "      <td>115</td>\n",
       "      <td>0</td>\n",
       "      <td>Friday</td>\n",
       "      <td>Senior</td>\n",
       "      <td>Long Wait</td>\n",
       "      <td>3</td>\n",
       "    </tr>\n",
       "    <tr>\n",
       "      <th>1</th>\n",
       "      <td>0</td>\n",
       "      <td>1</td>\n",
       "      <td>83.0</td>\n",
       "      <td>False</td>\n",
       "      <td>0</td>\n",
       "      <td>1</td>\n",
       "      <td>0</td>\n",
       "      <td>0</td>\n",
       "      <td>0</td>\n",
       "      <td>115</td>\n",
       "      <td>0</td>\n",
       "      <td>Friday</td>\n",
       "      <td>Senior</td>\n",
       "      <td>Long Wait</td>\n",
       "      <td>1</td>\n",
       "    </tr>\n",
       "    <tr>\n",
       "      <th>2</th>\n",
       "      <td>0</td>\n",
       "      <td>1</td>\n",
       "      <td>74.0</td>\n",
       "      <td>False</td>\n",
       "      <td>0</td>\n",
       "      <td>0</td>\n",
       "      <td>0</td>\n",
       "      <td>0</td>\n",
       "      <td>0</td>\n",
       "      <td>109</td>\n",
       "      <td>0</td>\n",
       "      <td>Friday</td>\n",
       "      <td>Senior</td>\n",
       "      <td>Long Wait</td>\n",
       "      <td>0</td>\n",
       "    </tr>\n",
       "    <tr>\n",
       "      <th>3</th>\n",
       "      <td>0</td>\n",
       "      <td>1</td>\n",
       "      <td>70.0</td>\n",
       "      <td>False</td>\n",
       "      <td>0</td>\n",
       "      <td>1</td>\n",
       "      <td>1</td>\n",
       "      <td>0</td>\n",
       "      <td>0</td>\n",
       "      <td>109</td>\n",
       "      <td>0</td>\n",
       "      <td>Friday</td>\n",
       "      <td>Senior</td>\n",
       "      <td>Long Wait</td>\n",
       "      <td>2</td>\n",
       "    </tr>\n",
       "    <tr>\n",
       "      <th>4</th>\n",
       "      <td>0</td>\n",
       "      <td>1</td>\n",
       "      <td>87.0</td>\n",
       "      <td>False</td>\n",
       "      <td>0</td>\n",
       "      <td>0</td>\n",
       "      <td>0</td>\n",
       "      <td>0</td>\n",
       "      <td>0</td>\n",
       "      <td>109</td>\n",
       "      <td>0</td>\n",
       "      <td>Friday</td>\n",
       "      <td>Senior</td>\n",
       "      <td>Long Wait</td>\n",
       "      <td>0</td>\n",
       "    </tr>\n",
       "    <tr>\n",
       "      <th>...</th>\n",
       "      <td>...</td>\n",
       "      <td>...</td>\n",
       "      <td>...</td>\n",
       "      <td>...</td>\n",
       "      <td>...</td>\n",
       "      <td>...</td>\n",
       "      <td>...</td>\n",
       "      <td>...</td>\n",
       "      <td>...</td>\n",
       "      <td>...</td>\n",
       "      <td>...</td>\n",
       "      <td>...</td>\n",
       "      <td>...</td>\n",
       "      <td>...</td>\n",
       "      <td>...</td>\n",
       "    </tr>\n",
       "    <tr>\n",
       "      <th>110520</th>\n",
       "      <td>0</td>\n",
       "      <td>0</td>\n",
       "      <td>54.0</td>\n",
       "      <td>True</td>\n",
       "      <td>0</td>\n",
       "      <td>0</td>\n",
       "      <td>0</td>\n",
       "      <td>0</td>\n",
       "      <td>0</td>\n",
       "      <td>0</td>\n",
       "      <td>0</td>\n",
       "      <td>Wednesday</td>\n",
       "      <td>Adult</td>\n",
       "      <td>Same Day</td>\n",
       "      <td>0</td>\n",
       "    </tr>\n",
       "    <tr>\n",
       "      <th>110521</th>\n",
       "      <td>0</td>\n",
       "      <td>0</td>\n",
       "      <td>43.0</td>\n",
       "      <td>False</td>\n",
       "      <td>0</td>\n",
       "      <td>0</td>\n",
       "      <td>0</td>\n",
       "      <td>0</td>\n",
       "      <td>0</td>\n",
       "      <td>0</td>\n",
       "      <td>1</td>\n",
       "      <td>Wednesday</td>\n",
       "      <td>Adult</td>\n",
       "      <td>Same Day</td>\n",
       "      <td>0</td>\n",
       "    </tr>\n",
       "    <tr>\n",
       "      <th>110522</th>\n",
       "      <td>0</td>\n",
       "      <td>0</td>\n",
       "      <td>27.0</td>\n",
       "      <td>True</td>\n",
       "      <td>0</td>\n",
       "      <td>0</td>\n",
       "      <td>0</td>\n",
       "      <td>0</td>\n",
       "      <td>0</td>\n",
       "      <td>0</td>\n",
       "      <td>0</td>\n",
       "      <td>Wednesday</td>\n",
       "      <td>Adult</td>\n",
       "      <td>Same Day</td>\n",
       "      <td>0</td>\n",
       "    </tr>\n",
       "    <tr>\n",
       "      <th>110523</th>\n",
       "      <td>0</td>\n",
       "      <td>0</td>\n",
       "      <td>30.0</td>\n",
       "      <td>False</td>\n",
       "      <td>0</td>\n",
       "      <td>0</td>\n",
       "      <td>0</td>\n",
       "      <td>0</td>\n",
       "      <td>0</td>\n",
       "      <td>0</td>\n",
       "      <td>0</td>\n",
       "      <td>Wednesday</td>\n",
       "      <td>Adult</td>\n",
       "      <td>Same Day</td>\n",
       "      <td>0</td>\n",
       "    </tr>\n",
       "    <tr>\n",
       "      <th>110524</th>\n",
       "      <td>0</td>\n",
       "      <td>0</td>\n",
       "      <td>27.0</td>\n",
       "      <td>False</td>\n",
       "      <td>0</td>\n",
       "      <td>0</td>\n",
       "      <td>0</td>\n",
       "      <td>0</td>\n",
       "      <td>0</td>\n",
       "      <td>0</td>\n",
       "      <td>0</td>\n",
       "      <td>Wednesday</td>\n",
       "      <td>Adult</td>\n",
       "      <td>Same Day</td>\n",
       "      <td>0</td>\n",
       "    </tr>\n",
       "  </tbody>\n",
       "</table>\n",
       "<p>110525 rows × 15 columns</p>\n",
       "</div>"
      ],
      "text/plain": [
       "        Noshow  SMSreceived   Age  GenderM  Scholarship  Hipertension  \\\n",
       "0            0            1  84.0     True            0             1   \n",
       "1            0            1  83.0    False            0             1   \n",
       "2            0            1  74.0    False            0             0   \n",
       "3            0            1  70.0    False            0             1   \n",
       "4            0            1  87.0    False            0             0   \n",
       "...        ...          ...   ...      ...          ...           ...   \n",
       "110520       0            0  54.0     True            0             0   \n",
       "110521       0            0  43.0    False            0             0   \n",
       "110522       0            0  27.0     True            0             0   \n",
       "110523       0            0  30.0    False            0             0   \n",
       "110524       0            0  27.0    False            0             0   \n",
       "\n",
       "        Diabetes  Alcoholism  Handcap  TimeGapDays  prevNoshow    WeekDay  \\\n",
       "0              1           0        1          115           0     Friday   \n",
       "1              0           0        0          115           0     Friday   \n",
       "2              0           0        0          109           0     Friday   \n",
       "3              1           0        0          109           0     Friday   \n",
       "4              0           0        0          109           0     Friday   \n",
       "...          ...         ...      ...          ...         ...        ...   \n",
       "110520         0           0        0            0           0  Wednesday   \n",
       "110521         0           0        0            0           1  Wednesday   \n",
       "110522         0           0        0            0           0  Wednesday   \n",
       "110523         0           0        0            0           0  Wednesday   \n",
       "110524         0           0        0            0           0  Wednesday   \n",
       "\n",
       "       AgeCategory WaitingTimeCategory  TotalConditions  \n",
       "0           Senior           Long Wait                3  \n",
       "1           Senior           Long Wait                1  \n",
       "2           Senior           Long Wait                0  \n",
       "3           Senior           Long Wait                2  \n",
       "4           Senior           Long Wait                0  \n",
       "...            ...                 ...              ...  \n",
       "110520       Adult            Same Day                0  \n",
       "110521       Adult            Same Day                0  \n",
       "110522       Adult            Same Day                0  \n",
       "110523       Adult            Same Day                0  \n",
       "110524       Adult            Same Day                0  \n",
       "\n",
       "[110525 rows x 15 columns]"
      ]
     },
     "execution_count": 2,
     "metadata": {},
     "output_type": "execute_result"
    }
   ],
   "source": [
    "df = pd.read_csv(\"appointments.csv\")\n",
    "df"
   ]
  },
  {
   "cell_type": "code",
   "execution_count": 3,
   "id": "9be41c1f",
   "metadata": {},
   "outputs": [
    {
     "name": "stdout",
     "output_type": "stream",
     "text": [
      "<class 'pandas.core.frame.DataFrame'>\n",
      "RangeIndex: 110525 entries, 0 to 110524\n",
      "Data columns (total 15 columns):\n",
      " #   Column               Non-Null Count   Dtype  \n",
      "---  ------               --------------   -----  \n",
      " 0   Noshow               110525 non-null  int64  \n",
      " 1   SMSreceived          110525 non-null  int64  \n",
      " 2   Age                  110525 non-null  float64\n",
      " 3   GenderM              110525 non-null  bool   \n",
      " 4   Scholarship          110525 non-null  int64  \n",
      " 5   Hipertension         110525 non-null  int64  \n",
      " 6   Diabetes             110525 non-null  int64  \n",
      " 7   Alcoholism           110525 non-null  int64  \n",
      " 8   Handcap              110525 non-null  int64  \n",
      " 9   TimeGapDays          110525 non-null  int64  \n",
      " 10  prevNoshow           110525 non-null  int64  \n",
      " 11  WeekDay              110525 non-null  object \n",
      " 12  AgeCategory          110525 non-null  object \n",
      " 13  WaitingTimeCategory  110525 non-null  object \n",
      " 14  TotalConditions      110525 non-null  int64  \n",
      "dtypes: bool(1), float64(1), int64(10), object(3)\n",
      "memory usage: 11.9+ MB\n"
     ]
    }
   ],
   "source": [
    "df.info()"
   ]
  },
  {
   "cell_type": "markdown",
   "id": "130e592d",
   "metadata": {},
   "source": [
    "### Brainstorming / Model Comparison and Selection"
   ]
  },
  {
   "cell_type": "markdown",
   "id": "1f426b9a",
   "metadata": {},
   "source": [
    "To develop a classification model that can predict no-shows in medical appointments effectively, we will follow a structured workflow. This workflow encompasses data preprocessing, exploratory data analysis (EDA), feature selection and engineering, model selection, training, evaluation, and finally, model refinement. Here is an outline of the required steps:\n",
    "\n",
    "1. Understanding the Data\n",
    "Initial Inspection: Although the dataset is already cleaned, review the data types, check for any anomalies or inconsistencies, and ensure there are no missing values or outliers that could affect the model's performance.\n",
    "2. Exploratory Data Analysis (EDA)\n",
    "Statistical Summary: Use descriptive statistics to understand the central tendency, dispersion, and shape of the dataset’s distribution.\n",
    "Visualization: Create visualizations (histograms, box plots, scatter plots) to understand relationships between features, identify patterns or outliers, and visualize the distribution of variables.\n",
    "Correlation Analysis: Analyze the correlation between different features and the target variable to identify potential predictors.\n",
    "3. Feature Engineering and Selection\n",
    "Encoding Categorical Variables: Convert categorical variables into a form that could be provided to ML algorithms (e.g., one-hot encoding for nominal categories).\n",
    "Feature Selection: Use statistical tests and algorithms (like SelectKBest, or feature importance from ensemble methods) to select the most relevant features to reduce dimensionality and improve model performance.\n",
    "Feature Engineering: Derive new features from existing ones to better capture the underlying patterns and relationships, if necessary.\n",
    "4. Data Preprocessing\n",
    "Scaling/Normalization: Scale or normalize features if you're using models sensitive to the magnitude of features, such as SVM, k-NN, or neural networks.\n",
    "Handling Imbalanced Data: If the target variable is imbalanced, consider techniques like SMOTE, undersampling, or oversampling to balance the classes.\n",
    "Train-Test Split: Divide the dataset into training and testing sets to evaluate the model's performance on unseen data.\n",
    "5. Model Selection\n",
    "Choose Several Models: Start with a variety of models suited for classification tasks (e.g., Logistic Regression, Random Forest, Gradient Boosting, SVM, and Neural Networks) to see which performs best on your dataset.\n",
    "Cross-Validation: Use cross-validation to assess the performance of models more reliably.\n",
    "6. Model Training and Tuning\n",
    "Hyperparameter Tuning: Use grid search or random search to find the best parameters for each model.\n",
    "Training: Train the models using the training set and the best-found parameters.\n",
    "7. Model Evaluation\n",
    "Select Evaluation Metrics: Use metrics like accuracy, precision, recall, F1 score, and ROC-AUC to evaluate model performance.\n",
    "Confusion Matrix: Analyze the confusion matrix for a detailed understanding of model performance across different classes.\n",
    "8. Model Refinement\n",
    "Ensemble Methods: Consider using ensemble methods (e.g., Stacking, Bagging, Boosting) to improve prediction performance by combining several models.\n",
    "Feature Importance Review: Review the importance of features for the best-performing models and consider revising feature selection or engineering steps.\n",
    "9. Final Model Selection\n",
    "Choose the Best Model: Select the model that offers the best balance between performance metrics and complexity.\n",
    "Validation: Use the test set to validate the final model's performance to ensure it generalizes well to new, unseen data.\n",
    "10. Deployment (Optional)\n",
    "Model Deployment: Prepare the model for deployment in a production environment, considering API development for integration with existing healthcare systems.\n",
    "Monitoring and Maintenance: Set up a system for monitoring the model's performance over time and updating it as necessary with new data or to adjust for concept drift.\n",
    "This workflow is iterative, and you may need to loop back to earlier steps based on the insights you gain or the performance of your models during evaluation."
   ]
  },
  {
   "cell_type": "markdown",
   "id": "69ec7eb3",
   "metadata": {},
   "source": [
    "Focusing on Gradient Boosting Machines (GBMs) for the appointments dataset, especially when aiming to maximize prediction accuracy while also valuing simplicity and the integration of data preprocessing, LightGBM emerges as the most suitable choice. Here's why:\n",
    "\n",
    "LightGBM\n",
    "LightGBM is a gradient boosting framework that uses tree-based learning algorithms and is designed for speed and efficiency. It stands out for several reasons that match your criteria:\n",
    "\n",
    "1. Efficiency and Speed:\n",
    "LightGBM is optimized for performance and speed, which allows it to handle large datasets more efficiently than other GBM frameworks. This makes it particularly suitable for the appointments dataset, which may have a significant number of entries and features.\n",
    "2. Handling Sparse Data:\n",
    "The appointments dataset may contain sparse features after preprocessing (e.g., one-hot encoded categorical variables). LightGBM is capable of efficiently handling sparse data, improving computational efficiency without sacrificing model performance.\n",
    "3. Categorical Feature Support:\n",
    "Unlike other GBM frameworks that require categorical features to be pre-processed into numerical values, LightGBM can directly handle categorical features. This reduces the need for extensive data preprocessing, such as one-hot encoding, thereby simplifying the model-building pipeline.\n",
    "4. Lower Memory Usage:\n",
    "LightGBM uses a histogram-based algorithm that buckets continuous feature values into discrete bins. This approach significantly reduces memory usage, making it more suitable for datasets with many continuous or high-cardinality features.\n",
    "5. Higher Accuracy:\n",
    "With its novel techniques for tree growing (Gradient-based One-Side Sampling and Exclusive Feature Bundling), LightGBM can achieve higher accuracy levels on various datasets with less tuning of hyperparameters compared to other models.\n",
    "6. Ease of Use:\n",
    "LightGBM offers an easy-to-use Python API, which is compatible with scikit-learn. This makes model training, hyperparameter tuning, and cross-validation straightforward, especially for users already familiar with the scikit-learn ecosystem.\n",
    "Integration with Data Preprocessing\n",
    "Given its ability to directly handle categorical features and efficiently manage sparse data, LightGBM minimizes the need for complex data preprocessing steps. However, basic preprocessing such as handling missing values (if any), scaling or normalization (depending on the context), and feature selection should still be conducted to optimize model performance.\n",
    "Conclusion\n",
    "LightGBM stands out as the most suitable Gradient Boosting Machine model for the appointments dataset, balancing the need for high predictive accuracy with simplicity and efficient data preprocessing integration. Its performance and ease of use make it a compelling choice for both beginners and advanced users looking to develop a predictive model for no-show appointments."
   ]
  },
  {
   "cell_type": "code",
   "execution_count": 5,
   "id": "b646e690",
   "metadata": {},
   "outputs": [],
   "source": [
    "import lightgbm as lgb"
   ]
  },
  {
   "cell_type": "code",
   "execution_count": null,
   "id": "de15cd99",
   "metadata": {},
   "outputs": [],
   "source": []
  },
  {
   "cell_type": "markdown",
   "id": "951b8509",
   "metadata": {},
   "source": [
    "### Data Proprocessing"
   ]
  },
  {
   "cell_type": "code",
   "execution_count": 6,
   "id": "6bd256af",
   "metadata": {},
   "outputs": [],
   "source": [
    "from sklearn.model_selection import train_test_split"
   ]
  },
  {
   "cell_type": "code",
   "execution_count": 7,
   "id": "935c2747",
   "metadata": {},
   "outputs": [],
   "source": [
    "# Assuming df is your DataFrame\n",
    "# Convert categorical features to category type\n",
    "categorical_features = ['GenderM', 'WeekDay', 'AgeCategory', 'WaitingTimeCategory']\n",
    "for feature in categorical_features:\n",
    "    df[feature] = df[feature].astype('category')"
   ]
  },
  {
   "cell_type": "code",
   "execution_count": 8,
   "id": "23c0471b",
   "metadata": {},
   "outputs": [
    {
     "name": "stdout",
     "output_type": "stream",
     "text": [
      "<class 'pandas.core.frame.DataFrame'>\n",
      "RangeIndex: 110525 entries, 0 to 110524\n",
      "Data columns (total 15 columns):\n",
      " #   Column               Non-Null Count   Dtype   \n",
      "---  ------               --------------   -----   \n",
      " 0   Noshow               110525 non-null  int64   \n",
      " 1   SMSreceived          110525 non-null  int64   \n",
      " 2   Age                  110525 non-null  float64 \n",
      " 3   GenderM              110525 non-null  category\n",
      " 4   Scholarship          110525 non-null  int64   \n",
      " 5   Hipertension         110525 non-null  int64   \n",
      " 6   Diabetes             110525 non-null  int64   \n",
      " 7   Alcoholism           110525 non-null  int64   \n",
      " 8   Handcap              110525 non-null  int64   \n",
      " 9   TimeGapDays          110525 non-null  int64   \n",
      " 10  prevNoshow           110525 non-null  int64   \n",
      " 11  WeekDay              110525 non-null  category\n",
      " 12  AgeCategory          110525 non-null  category\n",
      " 13  WaitingTimeCategory  110525 non-null  category\n",
      " 14  TotalConditions      110525 non-null  int64   \n",
      "dtypes: category(4), float64(1), int64(10)\n",
      "memory usage: 9.7 MB\n"
     ]
    }
   ],
   "source": [
    "df.info()"
   ]
  },
  {
   "cell_type": "code",
   "execution_count": 9,
   "id": "abb84ab9",
   "metadata": {},
   "outputs": [],
   "source": [
    "# Split the dataset\n",
    "X = df.drop('Noshow', axis=1)  # Features\n",
    "y = df['Noshow']                # Target variable\n",
    "X_train, X_test, y_train, y_test = train_test_split(X, y, test_size=0.2, random_state=42, stratify=y)"
   ]
  },
  {
   "cell_type": "code",
   "execution_count": 10,
   "id": "3b145a1e",
   "metadata": {},
   "outputs": [
    {
     "data": {
      "text/html": [
       "<div>\n",
       "<style scoped>\n",
       "    .dataframe tbody tr th:only-of-type {\n",
       "        vertical-align: middle;\n",
       "    }\n",
       "\n",
       "    .dataframe tbody tr th {\n",
       "        vertical-align: top;\n",
       "    }\n",
       "\n",
       "    .dataframe thead th {\n",
       "        text-align: right;\n",
       "    }\n",
       "</style>\n",
       "<table border=\"1\" class=\"dataframe\">\n",
       "  <thead>\n",
       "    <tr style=\"text-align: right;\">\n",
       "      <th></th>\n",
       "      <th>SMSreceived</th>\n",
       "      <th>Age</th>\n",
       "      <th>GenderM</th>\n",
       "      <th>Scholarship</th>\n",
       "      <th>Hipertension</th>\n",
       "      <th>Diabetes</th>\n",
       "      <th>Alcoholism</th>\n",
       "      <th>Handcap</th>\n",
       "      <th>TimeGapDays</th>\n",
       "      <th>prevNoshow</th>\n",
       "      <th>WeekDay</th>\n",
       "      <th>AgeCategory</th>\n",
       "      <th>WaitingTimeCategory</th>\n",
       "      <th>TotalConditions</th>\n",
       "    </tr>\n",
       "  </thead>\n",
       "  <tbody>\n",
       "    <tr>\n",
       "      <th>87976</th>\n",
       "      <td>0</td>\n",
       "      <td>26.0</td>\n",
       "      <td>True</td>\n",
       "      <td>0</td>\n",
       "      <td>0</td>\n",
       "      <td>0</td>\n",
       "      <td>0</td>\n",
       "      <td>0</td>\n",
       "      <td>0</td>\n",
       "      <td>0</td>\n",
       "      <td>Wednesday</td>\n",
       "      <td>Adult</td>\n",
       "      <td>Same Day</td>\n",
       "      <td>0</td>\n",
       "    </tr>\n",
       "    <tr>\n",
       "      <th>88530</th>\n",
       "      <td>0</td>\n",
       "      <td>38.0</td>\n",
       "      <td>True</td>\n",
       "      <td>0</td>\n",
       "      <td>0</td>\n",
       "      <td>0</td>\n",
       "      <td>0</td>\n",
       "      <td>0</td>\n",
       "      <td>0</td>\n",
       "      <td>0</td>\n",
       "      <td>Wednesday</td>\n",
       "      <td>Adult</td>\n",
       "      <td>Same Day</td>\n",
       "      <td>0</td>\n",
       "    </tr>\n",
       "    <tr>\n",
       "      <th>34653</th>\n",
       "      <td>1</td>\n",
       "      <td>61.0</td>\n",
       "      <td>False</td>\n",
       "      <td>0</td>\n",
       "      <td>0</td>\n",
       "      <td>0</td>\n",
       "      <td>0</td>\n",
       "      <td>0</td>\n",
       "      <td>7</td>\n",
       "      <td>1</td>\n",
       "      <td>Wednesday</td>\n",
       "      <td>Senior</td>\n",
       "      <td>Medium Wait</td>\n",
       "      <td>0</td>\n",
       "    </tr>\n",
       "    <tr>\n",
       "      <th>4839</th>\n",
       "      <td>1</td>\n",
       "      <td>12.0</td>\n",
       "      <td>False</td>\n",
       "      <td>1</td>\n",
       "      <td>0</td>\n",
       "      <td>0</td>\n",
       "      <td>0</td>\n",
       "      <td>0</td>\n",
       "      <td>6</td>\n",
       "      <td>0</td>\n",
       "      <td>Monday</td>\n",
       "      <td>Teenager</td>\n",
       "      <td>Medium Wait</td>\n",
       "      <td>0</td>\n",
       "    </tr>\n",
       "    <tr>\n",
       "      <th>57389</th>\n",
       "      <td>0</td>\n",
       "      <td>81.0</td>\n",
       "      <td>False</td>\n",
       "      <td>0</td>\n",
       "      <td>1</td>\n",
       "      <td>0</td>\n",
       "      <td>0</td>\n",
       "      <td>0</td>\n",
       "      <td>2</td>\n",
       "      <td>0</td>\n",
       "      <td>Wednesday</td>\n",
       "      <td>Senior</td>\n",
       "      <td>Short Wait</td>\n",
       "      <td>1</td>\n",
       "    </tr>\n",
       "    <tr>\n",
       "      <th>...</th>\n",
       "      <td>...</td>\n",
       "      <td>...</td>\n",
       "      <td>...</td>\n",
       "      <td>...</td>\n",
       "      <td>...</td>\n",
       "      <td>...</td>\n",
       "      <td>...</td>\n",
       "      <td>...</td>\n",
       "      <td>...</td>\n",
       "      <td>...</td>\n",
       "      <td>...</td>\n",
       "      <td>...</td>\n",
       "      <td>...</td>\n",
       "      <td>...</td>\n",
       "    </tr>\n",
       "    <tr>\n",
       "      <th>73032</th>\n",
       "      <td>1</td>\n",
       "      <td>49.0</td>\n",
       "      <td>True</td>\n",
       "      <td>0</td>\n",
       "      <td>1</td>\n",
       "      <td>0</td>\n",
       "      <td>0</td>\n",
       "      <td>0</td>\n",
       "      <td>6</td>\n",
       "      <td>0</td>\n",
       "      <td>Wednesday</td>\n",
       "      <td>Adult</td>\n",
       "      <td>Medium Wait</td>\n",
       "      <td>1</td>\n",
       "    </tr>\n",
       "    <tr>\n",
       "      <th>88812</th>\n",
       "      <td>1</td>\n",
       "      <td>69.0</td>\n",
       "      <td>False</td>\n",
       "      <td>0</td>\n",
       "      <td>0</td>\n",
       "      <td>0</td>\n",
       "      <td>0</td>\n",
       "      <td>0</td>\n",
       "      <td>36</td>\n",
       "      <td>0</td>\n",
       "      <td>Thursday</td>\n",
       "      <td>Senior</td>\n",
       "      <td>Long Wait</td>\n",
       "      <td>0</td>\n",
       "    </tr>\n",
       "    <tr>\n",
       "      <th>60253</th>\n",
       "      <td>0</td>\n",
       "      <td>50.0</td>\n",
       "      <td>False</td>\n",
       "      <td>1</td>\n",
       "      <td>0</td>\n",
       "      <td>0</td>\n",
       "      <td>0</td>\n",
       "      <td>0</td>\n",
       "      <td>16</td>\n",
       "      <td>0</td>\n",
       "      <td>Thursday</td>\n",
       "      <td>Adult</td>\n",
       "      <td>Long Wait</td>\n",
       "      <td>0</td>\n",
       "    </tr>\n",
       "    <tr>\n",
       "      <th>42942</th>\n",
       "      <td>0</td>\n",
       "      <td>29.0</td>\n",
       "      <td>False</td>\n",
       "      <td>0</td>\n",
       "      <td>0</td>\n",
       "      <td>0</td>\n",
       "      <td>0</td>\n",
       "      <td>0</td>\n",
       "      <td>11</td>\n",
       "      <td>0</td>\n",
       "      <td>Friday</td>\n",
       "      <td>Adult</td>\n",
       "      <td>Medium Wait</td>\n",
       "      <td>0</td>\n",
       "    </tr>\n",
       "    <tr>\n",
       "      <th>15192</th>\n",
       "      <td>0</td>\n",
       "      <td>20.0</td>\n",
       "      <td>True</td>\n",
       "      <td>0</td>\n",
       "      <td>0</td>\n",
       "      <td>0</td>\n",
       "      <td>0</td>\n",
       "      <td>0</td>\n",
       "      <td>0</td>\n",
       "      <td>0</td>\n",
       "      <td>Wednesday</td>\n",
       "      <td>Adult</td>\n",
       "      <td>Same Day</td>\n",
       "      <td>0</td>\n",
       "    </tr>\n",
       "  </tbody>\n",
       "</table>\n",
       "<p>88420 rows × 14 columns</p>\n",
       "</div>"
      ],
      "text/plain": [
       "       SMSreceived   Age GenderM  Scholarship  Hipertension  Diabetes  \\\n",
       "87976            0  26.0    True            0             0         0   \n",
       "88530            0  38.0    True            0             0         0   \n",
       "34653            1  61.0   False            0             0         0   \n",
       "4839             1  12.0   False            1             0         0   \n",
       "57389            0  81.0   False            0             1         0   \n",
       "...            ...   ...     ...          ...           ...       ...   \n",
       "73032            1  49.0    True            0             1         0   \n",
       "88812            1  69.0   False            0             0         0   \n",
       "60253            0  50.0   False            1             0         0   \n",
       "42942            0  29.0   False            0             0         0   \n",
       "15192            0  20.0    True            0             0         0   \n",
       "\n",
       "       Alcoholism  Handcap  TimeGapDays  prevNoshow    WeekDay AgeCategory  \\\n",
       "87976           0        0            0           0  Wednesday       Adult   \n",
       "88530           0        0            0           0  Wednesday       Adult   \n",
       "34653           0        0            7           1  Wednesday      Senior   \n",
       "4839            0        0            6           0     Monday    Teenager   \n",
       "57389           0        0            2           0  Wednesday      Senior   \n",
       "...           ...      ...          ...         ...        ...         ...   \n",
       "73032           0        0            6           0  Wednesday       Adult   \n",
       "88812           0        0           36           0   Thursday      Senior   \n",
       "60253           0        0           16           0   Thursday       Adult   \n",
       "42942           0        0           11           0     Friday       Adult   \n",
       "15192           0        0            0           0  Wednesday       Adult   \n",
       "\n",
       "      WaitingTimeCategory  TotalConditions  \n",
       "87976            Same Day                0  \n",
       "88530            Same Day                0  \n",
       "34653         Medium Wait                0  \n",
       "4839          Medium Wait                0  \n",
       "57389          Short Wait                1  \n",
       "...                   ...              ...  \n",
       "73032         Medium Wait                1  \n",
       "88812           Long Wait                0  \n",
       "60253           Long Wait                0  \n",
       "42942         Medium Wait                0  \n",
       "15192            Same Day                0  \n",
       "\n",
       "[88420 rows x 14 columns]"
      ]
     },
     "execution_count": 10,
     "metadata": {},
     "output_type": "execute_result"
    }
   ],
   "source": [
    "X_train"
   ]
  },
  {
   "cell_type": "code",
   "execution_count": 11,
   "id": "137a246c",
   "metadata": {},
   "outputs": [
    {
     "data": {
      "text/plain": [
       "0.20194526125311016"
      ]
     },
     "execution_count": 11,
     "metadata": {},
     "output_type": "execute_result"
    }
   ],
   "source": [
    "y_test.mean()"
   ]
  },
  {
   "cell_type": "markdown",
   "id": "3bad73c7",
   "metadata": {},
   "source": [
    "Given that the no-show rate in your dataset is 20%, the class imbalance is moderate. In such cases, handling the imbalance can potentially improve model performance, especially for metrics such as precision, recall, and the F1 score, which are more sensitive to imbalanced classes than accuracy.\n",
    "\n",
    "Recommendations:\n",
    "Use of LightGBM's Weight Parameter: One of the simplest and most effective ways to handle class imbalance directly with LightGBM is through its weight parameter during dataset construction. This method adjusts the weight of different classes in the loss function, making the model more sensitive to the minority class. It's straightforward to implement and does not require modifying the original dataset.\n",
    "\n",
    "To apply this, you can use the class_weight parameter in LightGBM's training function or manually specify weights for each instance in the training dataset. LightGBM can automatically calculate the appropriate weights if you specify class_weight='balanced' when creating the model. This approach is computationally efficient and keeps the original data distribution intact.\n",
    "\n",
    "SMOTE (Synthetic Minority Over-sampling Technique): SMOTE is another option where synthetic examples of the minority class are generated to balance the dataset. It can be effective but also introduces synthetic data, which might lead to overfitting or the model learning artifacts that do not exist in the real data.\n",
    "\n",
    "Comparing the Two Approaches:\n",
    "Integration and Simplicity: Using LightGBM's weight parameter is more integrated and simpler as it doesn't require external preprocessing of the data. Adjusting class weights is a parameter tuning step rather than a data manipulation step, keeping the pipeline cleaner.\n",
    "\n",
    "Data Distribution: LightGBM's approach maintains the original data distribution, only adjusting the model's focus during training. In contrast, SMOTE alters the data distribution by adding synthetic examples, which can be beneficial or detrimental, depending on how well these synthetic examples represent the real-world data distribution.\n",
    "\n",
    "Effectiveness: The effectiveness of each approach can vary depending on the dataset and the specific problem. It's often recommended to try both approaches (if the imbalance is significantly impacting model performance) and compare results using cross-validation.\n",
    "\n",
    "Conclusion:\n",
    "Given the moderate imbalance and the need for simplicity, starting with LightGBM's weight parameter to handle class imbalance is advisable. This approach is straightforward, does not require additional data processing steps, and allows you to maintain the original data distribution while addressing class imbalance directly within the model training process.\n",
    "\n",
    "If you find that handling imbalance through LightGBM's weight parameter does not sufficiently improve model performance, consider experimenting with SMOTE or other sampling techniques as a secondary step. Always validate the impact of these techniques through cross-validation and by examining various performance metrics."
   ]
  },
  {
   "cell_type": "code",
   "execution_count": null,
   "id": "3065f503",
   "metadata": {},
   "outputs": [],
   "source": []
  },
  {
   "cell_type": "markdown",
   "id": "7cb81b87",
   "metadata": {},
   "source": [
    "### Fitting a Baseline Model"
   ]
  },
  {
   "cell_type": "markdown",
   "id": "52674b09",
   "metadata": {},
   "source": [
    "After completing the data preprocessing, the next logical step in your workflow is to fit a baseline model. This approach allows you to establish a performance benchmark for your classification task with the appointments dataset. Once you have a baseline, you can proceed with hyperparameter tuning and optimization to improve the model's performance. Here's a detailed outline of the steps:\n",
    "\n",
    "1. Fitting a Baseline Model\n",
    "Objective: The goal of the baseline model is to provide a simple yet reasonable performance metric that you can use to compare more complex models or tuned versions of the same model.\n",
    "Process: Use LightGBM with its default parameters to fit the model on your training set. Do not worry about tuning hyperparameters at this stage.\n",
    "Evaluation: Evaluate the baseline model using appropriate metrics (accuracy, precision, recall, F1 score, ROC-AUC, etc.) based on your training and validation sets. This will give you an initial understanding of how well the model performs with minimal adjustments.\n",
    "\n",
    "2. Hyperparameter Tuning and Optimization\n",
    "After establishing a baseline, the next step is to optimize the model by tuning its hyperparameters. This process can significantly improve the model's predictive performance.\n",
    "\n",
    "Selection of Hyperparameters: Identify key hyperparameters for LightGBM that influence model performance, such as num_leaves, max_depth, min_child_samples, learning_rate, and n_estimators.\n",
    "Tuning Techniques: Utilize grid search, random search, or more sophisticated algorithms like Bayesian optimization to explore the hyperparameter space efficiently.\n",
    "Cross-Validation: Employ cross-validation (e.g., k-fold cross-validation) to assess the model's performance reliably across different subsets of the data. This helps ensure that your model generalizes well.\n",
    "Evaluation Metrics: Continue using the same evaluation metrics as for the baseline model to consistently compare performance improvements.\n",
    "\n",
    "\n",
    "3. Model Refinement\n",
    "Based on the results of hyperparameter tuning, refine your model by:\n",
    "\n",
    "Selecting the best-performing set of hyperparameters.\n",
    "Reassessing feature importance and considering additional feature engineering if necessary.\n",
    "Potentially exploring more advanced LightGBM features, such as using custom objective functions or boosting from an existing model if iterative improvements are needed.\n",
    "\n",
    "4. Validation\n",
    "Finally, validate the optimized model on a separate test set (which was not used during the training or tuning process) to assess its performance on unseen data. This step is crucial for understanding how well the model is likely to perform in a real-world scenario.\n",
    "\n",
    "5. Iteration\n",
    "Model development is an iterative process. Based on the insights gained during validation, you may choose to iterate on any of the previous steps (feature engineering, model tuning) to further improve performance.\n",
    "\n",
    "6. Documentation and Reporting\n",
    "Document the process, results, and decisions made throughout the modeling workflow. This includes documenting the baseline model's performance, changes made during hyperparameter tuning, final model configuration, and validation results.\n",
    "\n",
    "Conclusion\n",
    "\n",
    "\n",
    "Starting with a baseline model is an efficient way to establish a performance benchmark. Following up with careful hyperparameter tuning and optimization helps in systematically improving the model's predictive accuracy. This structured approach ensures that enhancements are data-driven and incrementally beneficial, leading to a robust and optimized model for predicting no-shows in medical appointments."
   ]
  },
  {
   "cell_type": "code",
   "execution_count": 12,
   "id": "a2d5c8c9",
   "metadata": {},
   "outputs": [],
   "source": [
    "import lightgbm as lgb"
   ]
  },
  {
   "cell_type": "code",
   "execution_count": 13,
   "id": "0bf44fa7",
   "metadata": {},
   "outputs": [],
   "source": [
    "# Initialize the LightGBM model\n",
    "lgbm_classifier = lgb.LGBMClassifier(random_state=42)"
   ]
  },
  {
   "cell_type": "code",
   "execution_count": 14,
   "id": "85a74bf5",
   "metadata": {},
   "outputs": [
    {
     "data": {
      "text/html": [
       "<style>#sk-container-id-1 {color: black;}#sk-container-id-1 pre{padding: 0;}#sk-container-id-1 div.sk-toggleable {background-color: white;}#sk-container-id-1 label.sk-toggleable__label {cursor: pointer;display: block;width: 100%;margin-bottom: 0;padding: 0.3em;box-sizing: border-box;text-align: center;}#sk-container-id-1 label.sk-toggleable__label-arrow:before {content: \"▸\";float: left;margin-right: 0.25em;color: #696969;}#sk-container-id-1 label.sk-toggleable__label-arrow:hover:before {color: black;}#sk-container-id-1 div.sk-estimator:hover label.sk-toggleable__label-arrow:before {color: black;}#sk-container-id-1 div.sk-toggleable__content {max-height: 0;max-width: 0;overflow: hidden;text-align: left;background-color: #f0f8ff;}#sk-container-id-1 div.sk-toggleable__content pre {margin: 0.2em;color: black;border-radius: 0.25em;background-color: #f0f8ff;}#sk-container-id-1 input.sk-toggleable__control:checked~div.sk-toggleable__content {max-height: 200px;max-width: 100%;overflow: auto;}#sk-container-id-1 input.sk-toggleable__control:checked~label.sk-toggleable__label-arrow:before {content: \"▾\";}#sk-container-id-1 div.sk-estimator input.sk-toggleable__control:checked~label.sk-toggleable__label {background-color: #d4ebff;}#sk-container-id-1 div.sk-label input.sk-toggleable__control:checked~label.sk-toggleable__label {background-color: #d4ebff;}#sk-container-id-1 input.sk-hidden--visually {border: 0;clip: rect(1px 1px 1px 1px);clip: rect(1px, 1px, 1px, 1px);height: 1px;margin: -1px;overflow: hidden;padding: 0;position: absolute;width: 1px;}#sk-container-id-1 div.sk-estimator {font-family: monospace;background-color: #f0f8ff;border: 1px dotted black;border-radius: 0.25em;box-sizing: border-box;margin-bottom: 0.5em;}#sk-container-id-1 div.sk-estimator:hover {background-color: #d4ebff;}#sk-container-id-1 div.sk-parallel-item::after {content: \"\";width: 100%;border-bottom: 1px solid gray;flex-grow: 1;}#sk-container-id-1 div.sk-label:hover label.sk-toggleable__label {background-color: #d4ebff;}#sk-container-id-1 div.sk-serial::before {content: \"\";position: absolute;border-left: 1px solid gray;box-sizing: border-box;top: 0;bottom: 0;left: 50%;z-index: 0;}#sk-container-id-1 div.sk-serial {display: flex;flex-direction: column;align-items: center;background-color: white;padding-right: 0.2em;padding-left: 0.2em;position: relative;}#sk-container-id-1 div.sk-item {position: relative;z-index: 1;}#sk-container-id-1 div.sk-parallel {display: flex;align-items: stretch;justify-content: center;background-color: white;position: relative;}#sk-container-id-1 div.sk-item::before, #sk-container-id-1 div.sk-parallel-item::before {content: \"\";position: absolute;border-left: 1px solid gray;box-sizing: border-box;top: 0;bottom: 0;left: 50%;z-index: -1;}#sk-container-id-1 div.sk-parallel-item {display: flex;flex-direction: column;z-index: 1;position: relative;background-color: white;}#sk-container-id-1 div.sk-parallel-item:first-child::after {align-self: flex-end;width: 50%;}#sk-container-id-1 div.sk-parallel-item:last-child::after {align-self: flex-start;width: 50%;}#sk-container-id-1 div.sk-parallel-item:only-child::after {width: 0;}#sk-container-id-1 div.sk-dashed-wrapped {border: 1px dashed gray;margin: 0 0.4em 0.5em 0.4em;box-sizing: border-box;padding-bottom: 0.4em;background-color: white;}#sk-container-id-1 div.sk-label label {font-family: monospace;font-weight: bold;display: inline-block;line-height: 1.2em;}#sk-container-id-1 div.sk-label-container {text-align: center;}#sk-container-id-1 div.sk-container {/* jupyter's `normalize.less` sets `[hidden] { display: none; }` but bootstrap.min.css set `[hidden] { display: none !important; }` so we also need the `!important` here to be able to override the default hidden behavior on the sphinx rendered scikit-learn.org. See: https://github.com/scikit-learn/scikit-learn/issues/21755 */display: inline-block !important;position: relative;}#sk-container-id-1 div.sk-text-repr-fallback {display: none;}</style><div id=\"sk-container-id-1\" class=\"sk-top-container\"><div class=\"sk-text-repr-fallback\"><pre>LGBMClassifier(random_state=42)</pre><b>In a Jupyter environment, please rerun this cell to show the HTML representation or trust the notebook. <br />On GitHub, the HTML representation is unable to render, please try loading this page with nbviewer.org.</b></div><div class=\"sk-container\" hidden><div class=\"sk-item\"><div class=\"sk-estimator sk-toggleable\"><input class=\"sk-toggleable__control sk-hidden--visually\" id=\"sk-estimator-id-1\" type=\"checkbox\" checked><label for=\"sk-estimator-id-1\" class=\"sk-toggleable__label sk-toggleable__label-arrow\">LGBMClassifier</label><div class=\"sk-toggleable__content\"><pre>LGBMClassifier(random_state=42)</pre></div></div></div></div></div>"
      ],
      "text/plain": [
       "LGBMClassifier(random_state=42)"
      ]
     },
     "execution_count": 14,
     "metadata": {},
     "output_type": "execute_result"
    }
   ],
   "source": [
    "lgbm_classifier"
   ]
  },
  {
   "cell_type": "code",
   "execution_count": 15,
   "id": "2232197d",
   "metadata": {},
   "outputs": [
    {
     "name": "stdout",
     "output_type": "stream",
     "text": [
      "[LightGBM] [Info] Number of positive: 17854, number of negative: 70566\n",
      "[LightGBM] [Info] Auto-choosing row-wise multi-threading, the overhead of testing was 0.002441 seconds.\n",
      "You can set `force_row_wise=true` to remove the overhead.\n",
      "And if memory is not enough, you can set `force_col_wise=true`.\n",
      "[LightGBM] [Info] Total Bins 257\n",
      "[LightGBM] [Info] Number of data points in the train set: 88420, number of used features: 14\n",
      "[LightGBM] [Info] [binary:BoostFromScore]: pavg=0.201923 -> initscore=-1.374321\n",
      "[LightGBM] [Info] Start training from score -1.374321\n"
     ]
    },
    {
     "data": {
      "text/html": [
       "<style>#sk-container-id-2 {color: black;}#sk-container-id-2 pre{padding: 0;}#sk-container-id-2 div.sk-toggleable {background-color: white;}#sk-container-id-2 label.sk-toggleable__label {cursor: pointer;display: block;width: 100%;margin-bottom: 0;padding: 0.3em;box-sizing: border-box;text-align: center;}#sk-container-id-2 label.sk-toggleable__label-arrow:before {content: \"▸\";float: left;margin-right: 0.25em;color: #696969;}#sk-container-id-2 label.sk-toggleable__label-arrow:hover:before {color: black;}#sk-container-id-2 div.sk-estimator:hover label.sk-toggleable__label-arrow:before {color: black;}#sk-container-id-2 div.sk-toggleable__content {max-height: 0;max-width: 0;overflow: hidden;text-align: left;background-color: #f0f8ff;}#sk-container-id-2 div.sk-toggleable__content pre {margin: 0.2em;color: black;border-radius: 0.25em;background-color: #f0f8ff;}#sk-container-id-2 input.sk-toggleable__control:checked~div.sk-toggleable__content {max-height: 200px;max-width: 100%;overflow: auto;}#sk-container-id-2 input.sk-toggleable__control:checked~label.sk-toggleable__label-arrow:before {content: \"▾\";}#sk-container-id-2 div.sk-estimator input.sk-toggleable__control:checked~label.sk-toggleable__label {background-color: #d4ebff;}#sk-container-id-2 div.sk-label input.sk-toggleable__control:checked~label.sk-toggleable__label {background-color: #d4ebff;}#sk-container-id-2 input.sk-hidden--visually {border: 0;clip: rect(1px 1px 1px 1px);clip: rect(1px, 1px, 1px, 1px);height: 1px;margin: -1px;overflow: hidden;padding: 0;position: absolute;width: 1px;}#sk-container-id-2 div.sk-estimator {font-family: monospace;background-color: #f0f8ff;border: 1px dotted black;border-radius: 0.25em;box-sizing: border-box;margin-bottom: 0.5em;}#sk-container-id-2 div.sk-estimator:hover {background-color: #d4ebff;}#sk-container-id-2 div.sk-parallel-item::after {content: \"\";width: 100%;border-bottom: 1px solid gray;flex-grow: 1;}#sk-container-id-2 div.sk-label:hover label.sk-toggleable__label {background-color: #d4ebff;}#sk-container-id-2 div.sk-serial::before {content: \"\";position: absolute;border-left: 1px solid gray;box-sizing: border-box;top: 0;bottom: 0;left: 50%;z-index: 0;}#sk-container-id-2 div.sk-serial {display: flex;flex-direction: column;align-items: center;background-color: white;padding-right: 0.2em;padding-left: 0.2em;position: relative;}#sk-container-id-2 div.sk-item {position: relative;z-index: 1;}#sk-container-id-2 div.sk-parallel {display: flex;align-items: stretch;justify-content: center;background-color: white;position: relative;}#sk-container-id-2 div.sk-item::before, #sk-container-id-2 div.sk-parallel-item::before {content: \"\";position: absolute;border-left: 1px solid gray;box-sizing: border-box;top: 0;bottom: 0;left: 50%;z-index: -1;}#sk-container-id-2 div.sk-parallel-item {display: flex;flex-direction: column;z-index: 1;position: relative;background-color: white;}#sk-container-id-2 div.sk-parallel-item:first-child::after {align-self: flex-end;width: 50%;}#sk-container-id-2 div.sk-parallel-item:last-child::after {align-self: flex-start;width: 50%;}#sk-container-id-2 div.sk-parallel-item:only-child::after {width: 0;}#sk-container-id-2 div.sk-dashed-wrapped {border: 1px dashed gray;margin: 0 0.4em 0.5em 0.4em;box-sizing: border-box;padding-bottom: 0.4em;background-color: white;}#sk-container-id-2 div.sk-label label {font-family: monospace;font-weight: bold;display: inline-block;line-height: 1.2em;}#sk-container-id-2 div.sk-label-container {text-align: center;}#sk-container-id-2 div.sk-container {/* jupyter's `normalize.less` sets `[hidden] { display: none; }` but bootstrap.min.css set `[hidden] { display: none !important; }` so we also need the `!important` here to be able to override the default hidden behavior on the sphinx rendered scikit-learn.org. See: https://github.com/scikit-learn/scikit-learn/issues/21755 */display: inline-block !important;position: relative;}#sk-container-id-2 div.sk-text-repr-fallback {display: none;}</style><div id=\"sk-container-id-2\" class=\"sk-top-container\"><div class=\"sk-text-repr-fallback\"><pre>LGBMClassifier(random_state=42)</pre><b>In a Jupyter environment, please rerun this cell to show the HTML representation or trust the notebook. <br />On GitHub, the HTML representation is unable to render, please try loading this page with nbviewer.org.</b></div><div class=\"sk-container\" hidden><div class=\"sk-item\"><div class=\"sk-estimator sk-toggleable\"><input class=\"sk-toggleable__control sk-hidden--visually\" id=\"sk-estimator-id-2\" type=\"checkbox\" checked><label for=\"sk-estimator-id-2\" class=\"sk-toggleable__label sk-toggleable__label-arrow\">LGBMClassifier</label><div class=\"sk-toggleable__content\"><pre>LGBMClassifier(random_state=42)</pre></div></div></div></div></div>"
      ],
      "text/plain": [
       "LGBMClassifier(random_state=42)"
      ]
     },
     "execution_count": 15,
     "metadata": {},
     "output_type": "execute_result"
    }
   ],
   "source": [
    "# Fit the model to the training data\n",
    "lgbm_classifier.fit(X_train, y_train)"
   ]
  },
  {
   "cell_type": "code",
   "execution_count": null,
   "id": "6857b189",
   "metadata": {},
   "outputs": [],
   "source": []
  },
  {
   "cell_type": "markdown",
   "id": "494dcb21",
   "metadata": {},
   "source": [
    "### Evaluating the Baseline Model"
   ]
  },
  {
   "cell_type": "code",
   "execution_count": 16,
   "id": "d8af18ad",
   "metadata": {},
   "outputs": [],
   "source": [
    "from sklearn.metrics import accuracy_score, precision_score, recall_score, f1_score, roc_auc_score"
   ]
  },
  {
   "cell_type": "code",
   "execution_count": 17,
   "id": "90899cef",
   "metadata": {},
   "outputs": [],
   "source": [
    "y_pred = lgbm_classifier.predict(X_test)"
   ]
  },
  {
   "cell_type": "code",
   "execution_count": 18,
   "id": "30dafd0c",
   "metadata": {},
   "outputs": [
    {
     "data": {
      "text/plain": [
       "array([0, 0, 0, ..., 0, 0, 0])"
      ]
     },
     "execution_count": 18,
     "metadata": {},
     "output_type": "execute_result"
    }
   ],
   "source": [
    "y_pred"
   ]
  },
  {
   "cell_type": "code",
   "execution_count": 19,
   "id": "6f87da64",
   "metadata": {},
   "outputs": [],
   "source": [
    "y_pred_proba = lgbm_classifier.predict_proba(X_test)[:, 1]"
   ]
  },
  {
   "cell_type": "code",
   "execution_count": 20,
   "id": "24e4af64",
   "metadata": {},
   "outputs": [
    {
     "data": {
      "text/plain": [
       "array([0.38765987, 0.02900508, 0.36433003, ..., 0.0427072 , 0.3297046 ,\n",
       "       0.23131117])"
      ]
     },
     "execution_count": 20,
     "metadata": {},
     "output_type": "execute_result"
    }
   ],
   "source": [
    "y_pred_proba"
   ]
  },
  {
   "cell_type": "code",
   "execution_count": 21,
   "id": "4dd5cdcc",
   "metadata": {},
   "outputs": [],
   "source": [
    "# Calculate metrics\n",
    "accuracy = accuracy_score(y_test, y_pred)\n",
    "precision = precision_score(y_test, y_pred)\n",
    "recall = recall_score(y_test, y_pred)\n",
    "f1 = f1_score(y_test, y_pred)\n",
    "roc_auc = roc_auc_score(y_test, y_pred_proba)"
   ]
  },
  {
   "cell_type": "code",
   "execution_count": 22,
   "id": "78b96065",
   "metadata": {},
   "outputs": [
    {
     "data": {
      "text/plain": [
       "0.8008595340420719"
      ]
     },
     "execution_count": 22,
     "metadata": {},
     "output_type": "execute_result"
    }
   ],
   "source": [
    "accuracy"
   ]
  },
  {
   "cell_type": "code",
   "execution_count": 23,
   "id": "2951658b",
   "metadata": {},
   "outputs": [
    {
     "name": "stdout",
     "output_type": "stream",
     "text": [
      "Accuracy: 0.8008595340420719\n",
      "Precision: 0.5637860082304527\n",
      "Recall: 0.06137992831541219\n",
      "F1 Score: 0.11070707070707073\n",
      "ROC AUC Score: 0.7400562129825863\n"
     ]
    }
   ],
   "source": [
    "# Print the metrics\n",
    "print(f\"Accuracy: {accuracy}\")\n",
    "print(f\"Precision: {precision}\")\n",
    "print(f\"Recall: {recall}\")\n",
    "print(f\"F1 Score: {f1}\")\n",
    "print(f\"ROC AUC Score: {roc_auc}\")"
   ]
  },
  {
   "cell_type": "markdown",
   "id": "f2d31ae8",
   "metadata": {},
   "source": [
    "### Handling Class Imbalance"
   ]
  },
  {
   "cell_type": "code",
   "execution_count": 24,
   "id": "4d8d6228",
   "metadata": {},
   "outputs": [],
   "source": [
    "# Adjust the class_weight parameter to 'balanced'\n",
    "lgbm_classifier_balanced = lgb.LGBMClassifier(random_state=42, class_weight='balanced')"
   ]
  },
  {
   "cell_type": "code",
   "execution_count": 25,
   "id": "79736f49",
   "metadata": {},
   "outputs": [
    {
     "name": "stdout",
     "output_type": "stream",
     "text": [
      "[LightGBM] [Info] Number of positive: 17854, number of negative: 70566\n",
      "[LightGBM] [Info] Auto-choosing col-wise multi-threading, the overhead of testing was 0.015722 seconds.\n",
      "You can set `force_col_wise=true` to remove the overhead.\n",
      "[LightGBM] [Info] Total Bins 257\n",
      "[LightGBM] [Info] Number of data points in the train set: 88420, number of used features: 14\n",
      "[LightGBM] [Info] [binary:BoostFromScore]: pavg=0.500000 -> initscore=0.000000\n",
      "[LightGBM] [Info] Start training from score 0.000000\n"
     ]
    },
    {
     "data": {
      "text/html": [
       "<style>#sk-container-id-3 {color: black;}#sk-container-id-3 pre{padding: 0;}#sk-container-id-3 div.sk-toggleable {background-color: white;}#sk-container-id-3 label.sk-toggleable__label {cursor: pointer;display: block;width: 100%;margin-bottom: 0;padding: 0.3em;box-sizing: border-box;text-align: center;}#sk-container-id-3 label.sk-toggleable__label-arrow:before {content: \"▸\";float: left;margin-right: 0.25em;color: #696969;}#sk-container-id-3 label.sk-toggleable__label-arrow:hover:before {color: black;}#sk-container-id-3 div.sk-estimator:hover label.sk-toggleable__label-arrow:before {color: black;}#sk-container-id-3 div.sk-toggleable__content {max-height: 0;max-width: 0;overflow: hidden;text-align: left;background-color: #f0f8ff;}#sk-container-id-3 div.sk-toggleable__content pre {margin: 0.2em;color: black;border-radius: 0.25em;background-color: #f0f8ff;}#sk-container-id-3 input.sk-toggleable__control:checked~div.sk-toggleable__content {max-height: 200px;max-width: 100%;overflow: auto;}#sk-container-id-3 input.sk-toggleable__control:checked~label.sk-toggleable__label-arrow:before {content: \"▾\";}#sk-container-id-3 div.sk-estimator input.sk-toggleable__control:checked~label.sk-toggleable__label {background-color: #d4ebff;}#sk-container-id-3 div.sk-label input.sk-toggleable__control:checked~label.sk-toggleable__label {background-color: #d4ebff;}#sk-container-id-3 input.sk-hidden--visually {border: 0;clip: rect(1px 1px 1px 1px);clip: rect(1px, 1px, 1px, 1px);height: 1px;margin: -1px;overflow: hidden;padding: 0;position: absolute;width: 1px;}#sk-container-id-3 div.sk-estimator {font-family: monospace;background-color: #f0f8ff;border: 1px dotted black;border-radius: 0.25em;box-sizing: border-box;margin-bottom: 0.5em;}#sk-container-id-3 div.sk-estimator:hover {background-color: #d4ebff;}#sk-container-id-3 div.sk-parallel-item::after {content: \"\";width: 100%;border-bottom: 1px solid gray;flex-grow: 1;}#sk-container-id-3 div.sk-label:hover label.sk-toggleable__label {background-color: #d4ebff;}#sk-container-id-3 div.sk-serial::before {content: \"\";position: absolute;border-left: 1px solid gray;box-sizing: border-box;top: 0;bottom: 0;left: 50%;z-index: 0;}#sk-container-id-3 div.sk-serial {display: flex;flex-direction: column;align-items: center;background-color: white;padding-right: 0.2em;padding-left: 0.2em;position: relative;}#sk-container-id-3 div.sk-item {position: relative;z-index: 1;}#sk-container-id-3 div.sk-parallel {display: flex;align-items: stretch;justify-content: center;background-color: white;position: relative;}#sk-container-id-3 div.sk-item::before, #sk-container-id-3 div.sk-parallel-item::before {content: \"\";position: absolute;border-left: 1px solid gray;box-sizing: border-box;top: 0;bottom: 0;left: 50%;z-index: -1;}#sk-container-id-3 div.sk-parallel-item {display: flex;flex-direction: column;z-index: 1;position: relative;background-color: white;}#sk-container-id-3 div.sk-parallel-item:first-child::after {align-self: flex-end;width: 50%;}#sk-container-id-3 div.sk-parallel-item:last-child::after {align-self: flex-start;width: 50%;}#sk-container-id-3 div.sk-parallel-item:only-child::after {width: 0;}#sk-container-id-3 div.sk-dashed-wrapped {border: 1px dashed gray;margin: 0 0.4em 0.5em 0.4em;box-sizing: border-box;padding-bottom: 0.4em;background-color: white;}#sk-container-id-3 div.sk-label label {font-family: monospace;font-weight: bold;display: inline-block;line-height: 1.2em;}#sk-container-id-3 div.sk-label-container {text-align: center;}#sk-container-id-3 div.sk-container {/* jupyter's `normalize.less` sets `[hidden] { display: none; }` but bootstrap.min.css set `[hidden] { display: none !important; }` so we also need the `!important` here to be able to override the default hidden behavior on the sphinx rendered scikit-learn.org. See: https://github.com/scikit-learn/scikit-learn/issues/21755 */display: inline-block !important;position: relative;}#sk-container-id-3 div.sk-text-repr-fallback {display: none;}</style><div id=\"sk-container-id-3\" class=\"sk-top-container\"><div class=\"sk-text-repr-fallback\"><pre>LGBMClassifier(class_weight=&#x27;balanced&#x27;, random_state=42)</pre><b>In a Jupyter environment, please rerun this cell to show the HTML representation or trust the notebook. <br />On GitHub, the HTML representation is unable to render, please try loading this page with nbviewer.org.</b></div><div class=\"sk-container\" hidden><div class=\"sk-item\"><div class=\"sk-estimator sk-toggleable\"><input class=\"sk-toggleable__control sk-hidden--visually\" id=\"sk-estimator-id-3\" type=\"checkbox\" checked><label for=\"sk-estimator-id-3\" class=\"sk-toggleable__label sk-toggleable__label-arrow\">LGBMClassifier</label><div class=\"sk-toggleable__content\"><pre>LGBMClassifier(class_weight=&#x27;balanced&#x27;, random_state=42)</pre></div></div></div></div></div>"
      ],
      "text/plain": [
       "LGBMClassifier(class_weight='balanced', random_state=42)"
      ]
     },
     "execution_count": 25,
     "metadata": {},
     "output_type": "execute_result"
    }
   ],
   "source": [
    "# Fit the model to the training data again, with the class_weight parameter set to 'balanced'\n",
    "lgbm_classifier_balanced.fit(X_train, y_train)"
   ]
  },
  {
   "cell_type": "code",
   "execution_count": 26,
   "id": "e15050ec",
   "metadata": {},
   "outputs": [],
   "source": [
    "y_pred = lgbm_classifier_balanced.predict(X_test)"
   ]
  },
  {
   "cell_type": "code",
   "execution_count": 27,
   "id": "90072a9c",
   "metadata": {},
   "outputs": [],
   "source": [
    "y_pred_proba = lgbm_classifier_balanced.predict_proba(X_test)[:, 1]"
   ]
  },
  {
   "cell_type": "code",
   "execution_count": 28,
   "id": "0062a5e7",
   "metadata": {},
   "outputs": [],
   "source": [
    "# Calculate metrics\n",
    "accuracy = accuracy_score(y_test, y_pred)\n",
    "precision = precision_score(y_test, y_pred)\n",
    "recall = recall_score(y_test, y_pred)\n",
    "f1 = f1_score(y_test, y_pred)\n",
    "roc_auc = roc_auc_score(y_test, y_pred_proba)"
   ]
  },
  {
   "cell_type": "code",
   "execution_count": 29,
   "id": "9c0485de",
   "metadata": {},
   "outputs": [
    {
     "name": "stdout",
     "output_type": "stream",
     "text": [
      "Accuracy: 0.6008595340420719\n",
      "Precision: 0.313446888641616\n",
      "Recall: 0.8203405017921147\n",
      "F1 Score: 0.4535827088623273\n",
      "ROC AUC Score: 0.740229744410575\n"
     ]
    }
   ],
   "source": [
    "# Print the metrics\n",
    "print(f\"Accuracy: {accuracy}\")\n",
    "print(f\"Precision: {precision}\")\n",
    "print(f\"Recall: {recall}\")\n",
    "print(f\"F1 Score: {f1}\")\n",
    "print(f\"ROC AUC Score: {roc_auc}\")"
   ]
  },
  {
   "cell_type": "markdown",
   "id": "2eb54411",
   "metadata": {},
   "source": [
    "The results from the LightGBM model adjusted for class imbalance using the class_weight='balanced' parameter show a significant shift in performance metrics compared to the baseline model. Let's analyze and compare these results:\n",
    "\n",
    "Accuracy <br>\n",
    "Baseline Model: 80.09%\n",
    "Adjusted Model: 60.09%\n",
    "The accuracy has decreased significantly. This indicates that the model, after adjustment, is less accurate overall in predicting both classes correctly. However, accuracy is not the best metric to rely on in imbalanced datasets as it can be misleading.\n",
    "\n",
    "Precision <br>\n",
    "Baseline Model: 56.38%\n",
    "Adjusted Model: 31.34%\n",
    "Precision has also decreased, indicating that of all appointments predicted as no-shows, a smaller percentage actually were no-shows compared to the baseline model. This suggests that the model is now more inclined to predict no-shows, even at the risk of being wrong more often.\n",
    "\n",
    "Recall <br>\n",
    "Baseline Model: 6.14%\n",
    "Adjusted Model: 82.03%\n",
    "There's a dramatic increase in recall, meaning that the model is now capable of identifying a much higher proportion of the actual no-shows. This is a crucial improvement for scenarios where missing out on actual no-shows (false negatives) is more critical than mistakenly labeling show-ups as no-shows (false positives).\n",
    "\n",
    "F1 Score <br>\n",
    "Baseline Model: 11.07%\n",
    "Adjusted Model: 45.36%\n",
    "The F1 score, which balances precision and recall, has increased markedly. This suggests that the adjusted model, despite making more false positive errors, is better balanced overall in terms of handling both classes, particularly in identifying the minority class (no-shows).\n",
    "\n",
    "ROC AUC Score <br>\n",
    "Baseline Model: 74.01%\n",
    "Adjusted Model: 74.02%\n",
    "The ROC AUC score remains almost unchanged, indicating that the model's ability to discriminate between the classes hasn't significantly improved or worsened from an overall perspective. This metric suggests that the model's overall predictive quality is stable, but the way it achieves its predictions has shifted towards favoring recall over precision.\n",
    "\n",
    "Interpretation and Implications <br>\n",
    "The adjustments made to address class imbalance have significantly improved the model's ability to identify the more critical minority class (no-shows), as evidenced by the substantial increase in recall and F1 score. However, this has come at the cost of reduced accuracy and precision, indicating a higher rate of false positives.\n",
    "\n",
    "In practical terms, if the goal is to minimize missed no-shows (for instance, in a healthcare setting where it's crucial to identify potential no-shows to reduce operational costs and scheduling inefficiencies), this trade-off might be acceptable or even desirable. However, if the cost of false alarms (incorrectly predicting no-shows) is high, the reduced precision might be a concern.\n",
    "\n",
    "This analysis underscores the importance of choosing performance metrics that align with the specific objectives of the predictive model and the costs associated with different types of errors. Adjusting for class imbalance has made the model more useful for scenarios prioritizing the identification of no-shows over the accurate prediction of all appointment outcomes.\n",
    "    \n",
    "\n",
    "    "
   ]
  },
  {
   "cell_type": "markdown",
   "id": "af06ecf0",
   "metadata": {},
   "source": [
    "### Hyperparameter Tuning (Theory)"
   ]
  },
  {
   "cell_type": "markdown",
   "id": "2065613c",
   "metadata": {},
   "source": [
    "Hyperparameter tuning is a critical step in optimizing the performance of machine learning models, including LightGBM. It involves experimenting with different combinations of model parameters to find the set that produces the best results according to your chosen evaluation metrics. Here’s an overview of the most relevant parameters for LightGBM, sorted by their importance and a brief explanation of each:\n",
    "\n",
    "1. num_leaves\n",
    "The main parameter to control the complexity of the tree model. Theoretically, the number of leaves should be less than or equal to 2^(max_depth) to avoid overfitting. However, in practice, setting it to a value smaller than 2^(max_depth) can still lead to good results.\n",
    "2. max_depth\n",
    "Maximum tree depth for base learners, used to control over-fitting. Setting it to a positive value builds the trees up to the specified depth. The deeper the tree, the more complex the model, which can lead to better accuracy but increases the risk of overfitting.\n",
    "3. learning_rate\n",
    "Also known as shrinkage, this affects how quickly or slowly a model learns. A smaller learning rate requires more boosting rounds to achieve the same reduction in residual error as a larger learning rate.\n",
    "4. n_estimators\n",
    "The number of boosting rounds or trees to build. More trees can lead to better performance but also to longer training times and the potential for overfitting.\n",
    "5. min_child_samples (or min_data_in_leaf)\n",
    "The minimum number of data points needed to make a final decision at a leaf node. A higher number can prevent the model from learning relations that might be highly specific to the particular sample selected for a tree.\n",
    "6. min_child_weight\n",
    "Minimum sum of instance weight (hessian) needed in a child (leaf). If the tree partition step results in a leaf node with the sum of instance weight less than min_child_weight, then the building process will give up further partitioning.\n",
    "7. subsample\n",
    "The subsample ratio of the training instances. Setting it to 0.5 means that LightGBM will randomly sample half of the training data to grow trees and this will prevent overfitting.\n",
    "8. colsample_bytree\n",
    "The subsample ratio of columns when constructing each tree. Subsampling occurs once for every tree constructed.\n",
    "9. reg_alpha and reg_lambda\n",
    "L1 and L2 regularization terms on weights respectively. They can be used to help prevent overfitting.\n",
    "Hyperparameter Tuning Process and Options:\n",
    "The process of hyperparameter tuning involves systematically searching through a range of hyperparameter values to find the combination that performs the best based on a predefined metric. Common strategies for hyperparameter tuning include:\n",
    "\n",
    "Grid Search: Exhaustively tries every combination of predefined ranges of hyperparameter values. It is simple to implement but can be very time-consuming, especially with a large number of parameters and wide ranges.\n",
    "\n",
    "Random Search: Randomly selects combinations of hyperparameters to try, which can be more efficient than grid search, especially when only a few hyperparameters significantly influence the model's performance.\n",
    "\n",
    "Bayesian Optimization: Uses a probabilistic model to predict the performance of different hyperparameter combinations and selects new combinations to try based on past results. It is more efficient than both grid and random search as it can quickly hone in on the most promising areas of the parameter space.\n",
    "\n",
    "Gradient-based Optimization: Uses gradient descent to find the minimum of the loss function in the hyperparameter space. This is less common for hyperparameter tuning due to the non-differentiability of most model performance metrics.\n",
    "\n",
    "Evolutionary Algorithms: Inspired by the process of natural selection, these algorithms use mechanisms such as mutation, crossover, and selection to evolve a set of hyperparameters towards better performance.\n",
    "\n",
    "Most Appropriate Setup for Our Example:\n",
    "Given the complexity of LightGBM and the potential high dimensionality of the hyperparameter space, Bayesian Optimization is a good balance between efficiency and effectiveness for our scenario. It intelligently navigates the hyperparameter space and often finds a good configuration faster than grid or random search, making it suitable for optimizing LightGBM's performance on the appointment no-show prediction task. Tools like Hyperopt, Optuna, or BayesianOptimization library in Python can be used to implement this approach."
   ]
  },
  {
   "cell_type": "markdown",
   "id": "cad49882",
   "metadata": {},
   "source": [
    "For Bayesian Optimization with LightGBM, you typically define a search space rather than a fixed grid of hyperparameter values. The search space specifies the range or distribution of values that the optimization algorithm will explore for each hyperparameter. Here's a promising search space for your LightGBM model that aims to balance model complexity with the risk of overfitting, considering the task of predicting appointment no-shows:"
   ]
  },
  {
   "cell_type": "code",
   "execution_count": 30,
   "id": "470a395b",
   "metadata": {},
   "outputs": [],
   "source": [
    "search_space = {\n",
    "    'num_leaves': (20, 100),  # Increase if model is underfitting\n",
    "    'max_depth': (3, 10),  # Increase if model is underfitting\n",
    "    'learning_rate': (0.01, 0.3),  # Decrease to make the model more robust\n",
    "    'n_estimators': (50, 1000),  # Increase if model is underfitting\n",
    "    'min_child_samples': (20, 500),  # Increase if model is overfitting\n",
    "    'min_child_weight': (1e-5, 1e-2, 'log-uniform'),  # Controls overfitting\n",
    "    'subsample': (0.5, 1.0),  # Lower to make the model more robust\n",
    "    'colsample_bytree': (0.5, 1.0),  # Lower to make the model more robust\n",
    "    'reg_alpha': (0, 1.0),  # L1 regularization\n",
    "    'reg_lambda': (0, 1.0),  # L2 regularization\n",
    "}"
   ]
  },
  {
   "cell_type": "markdown",
   "id": "7f08168b",
   "metadata": {},
   "source": [
    "How to Use This Search Space:\n",
    "\n",
    "num_leaves and max_depth control the complexity of the model. A larger number of leaves or greater depth can capture more detailed patterns in the data but also increase the risk of overfitting.\n",
    "learning_rate and n_estimators are inversely related. A smaller learning rate generally requires more estimators (trees) to converge to a solution. Finding a balance between these two parameters is key to building a robust model.\n",
    "min_child_samples and min_child_weight help to prevent overfitting by making the model more conservative. They control the minimum number of samples or sum of weights in a leaf.\n",
    "subsample and colsample_bytree offer additional regularization by enabling stochastic gradient boosting, where each tree is trained on a subsample of the data and features.\n",
    "reg_alpha and reg_lambda add regularization terms to the loss function, penalizing large coefficients to simplify the model and prevent overfitting.\n",
    "Bayesian Optimization will iteratively explore this space, evaluating the model's performance at each iteration and using the results to update its understanding of the search space. This approach focuses on promising areas, efficiently finding a good set of hyperparameters. Libraries like Optuna or Hyperopt can be used to implement Bayesian Optimization, where you define an objective function that takes hyperparameters from the search space and returns a model performance metric to maximize or minimize."
   ]
  },
  {
   "cell_type": "code",
   "execution_count": null,
   "id": "14a1fde7",
   "metadata": {},
   "outputs": [],
   "source": []
  },
  {
   "cell_type": "markdown",
   "id": "057c626c",
   "metadata": {},
   "source": [
    "### Hyperparameter Tuning"
   ]
  },
  {
   "cell_type": "code",
   "execution_count": 35,
   "id": "80d5913e",
   "metadata": {},
   "outputs": [],
   "source": [
    "import optuna"
   ]
  },
  {
   "cell_type": "code",
   "execution_count": 36,
   "id": "bfbd26ff",
   "metadata": {},
   "outputs": [],
   "source": [
    "import warnings\n",
    "warnings.filterwarnings('ignore')"
   ]
  },
  {
   "cell_type": "code",
   "execution_count": 37,
   "id": "37ed5c76",
   "metadata": {},
   "outputs": [],
   "source": [
    "def objective(trial):\n",
    "    # Define the search space using trial.suggest_ methods\n",
    "    param = {\n",
    "        'objective': 'binary',\n",
    "        'metric': 'auc',\n",
    "        'verbosity': -1,\n",
    "        'boosting_type': 'gbdt',\n",
    "        'num_leaves': trial.suggest_int('num_leaves', 20, 100),\n",
    "        'max_depth': trial.suggest_int('max_depth', 3, 10),\n",
    "        'learning_rate': trial.suggest_float('learning_rate', 0.01, 0.3),\n",
    "        'n_estimators': trial.suggest_int('n_estimators', 50, 1000),\n",
    "        'min_child_samples': trial.suggest_int('min_child_samples', 20, 500),\n",
    "        'min_child_weight': trial.suggest_loguniform('min_child_weight', 1e-5, 1e-2),\n",
    "        'subsample': trial.suggest_float('subsample', 0.5, 1.0),\n",
    "        'colsample_bytree': trial.suggest_float('colsample_bytree', 0.5, 1.0),\n",
    "        'reg_alpha': trial.suggest_float('reg_alpha', 0, 1.0),\n",
    "        'reg_lambda': trial.suggest_float('reg_lambda', 0, 1.0),\n",
    "        'random_state': 42,\n",
    "        'class_weight': 'balanced'  # Address class imbalance\n",
    "    }\n",
    "    \n",
    "    # Create and fit the model\n",
    "    model = lgb.LGBMClassifier(**param)\n",
    "    model.fit(X_train, y_train, eval_set=[(X_test, y_test)])\n",
    "    \n",
    "    # Predict and calculate ROC AUC Score\n",
    "    preds = model.predict_proba(X_test)[:, 1]\n",
    "    roc_auc = roc_auc_score(y_test, preds)\n",
    "    \n",
    "    return roc_auc"
   ]
  },
  {
   "cell_type": "code",
   "execution_count": 38,
   "id": "2944a217",
   "metadata": {},
   "outputs": [
    {
     "name": "stderr",
     "output_type": "stream",
     "text": [
      "[I 2024-08-19 19:37:35,125] A new study created in memory with name: no-name-1d53e6a6-2713-4d46-8772-67dcfc175aa3\n"
     ]
    }
   ],
   "source": [
    "study = optuna.create_study(direction='maximize')"
   ]
  },
  {
   "cell_type": "code",
   "execution_count": 39,
   "id": "f59ec83a",
   "metadata": {},
   "outputs": [
    {
     "name": "stderr",
     "output_type": "stream",
     "text": [
      "[I 2024-08-19 19:37:36,658] Trial 0 finished with value: 0.7390188847603507 and parameters: {'num_leaves': 99, 'max_depth': 4, 'learning_rate': 0.20557838676208992, 'n_estimators': 319, 'min_child_samples': 487, 'min_child_weight': 0.003672268149442384, 'subsample': 0.6077675293079097, 'colsample_bytree': 0.7093308744545453, 'reg_alpha': 0.15439868866881978, 'reg_lambda': 0.42825937049353113}. Best is trial 0 with value: 0.7390188847603507.\n",
      "[I 2024-08-19 19:37:36,971] Trial 1 finished with value: 0.7389415762583863 and parameters: {'num_leaves': 66, 'max_depth': 3, 'learning_rate': 0.05832269875659352, 'n_estimators': 107, 'min_child_samples': 162, 'min_child_weight': 0.006527611161391073, 'subsample': 0.5249561735871834, 'colsample_bytree': 0.6950936901058258, 'reg_alpha': 0.9939718122134042, 'reg_lambda': 0.6575415212772678}. Best is trial 0 with value: 0.7390188847603507.\n",
      "[I 2024-08-19 19:37:37,489] Trial 2 finished with value: 0.7404723366611544 and parameters: {'num_leaves': 62, 'max_depth': 3, 'learning_rate': 0.20955707817935293, 'n_estimators': 196, 'min_child_samples': 126, 'min_child_weight': 1.9801774612734106e-05, 'subsample': 0.8301282480705694, 'colsample_bytree': 0.9673623862305591, 'reg_alpha': 0.18525783715858257, 'reg_lambda': 0.5009385554518238}. Best is trial 2 with value: 0.7404723366611544.\n",
      "[I 2024-08-19 19:37:40,224] Trial 3 finished with value: 0.7378424126632344 and parameters: {'num_leaves': 99, 'max_depth': 3, 'learning_rate': 0.20901290823951602, 'n_estimators': 758, 'min_child_samples': 419, 'min_child_weight': 6.0964810125814374e-05, 'subsample': 0.9853829837604163, 'colsample_bytree': 0.659134034539083, 'reg_alpha': 0.32736275298064665, 'reg_lambda': 0.8072064675903401}. Best is trial 2 with value: 0.7404723366611544.\n",
      "[I 2024-08-19 19:37:43,554] Trial 4 finished with value: 0.7363657732912434 and parameters: {'num_leaves': 65, 'max_depth': 5, 'learning_rate': 0.14407956144195863, 'n_estimators': 905, 'min_child_samples': 382, 'min_child_weight': 0.0006687239559014833, 'subsample': 0.7978467016022833, 'colsample_bytree': 0.532121777832888, 'reg_alpha': 0.5490075779302735, 'reg_lambda': 0.6865269382870166}. Best is trial 2 with value: 0.7404723366611544.\n",
      "[I 2024-08-19 19:37:46,021] Trial 5 finished with value: 0.7306525949954885 and parameters: {'num_leaves': 41, 'max_depth': 7, 'learning_rate': 0.2695719823901506, 'n_estimators': 602, 'min_child_samples': 281, 'min_child_weight': 0.0022215446551556678, 'subsample': 0.7679756779208347, 'colsample_bytree': 0.6415257400113205, 'reg_alpha': 0.9287790826569872, 'reg_lambda': 0.9479038646218874}. Best is trial 2 with value: 0.7404723366611544.\n",
      "[I 2024-08-19 19:37:48,640] Trial 6 finished with value: 0.7331933056424641 and parameters: {'num_leaves': 25, 'max_depth': 8, 'learning_rate': 0.15363892349294012, 'n_estimators': 809, 'min_child_samples': 170, 'min_child_weight': 2.9316750745238903e-05, 'subsample': 0.9455064862249325, 'colsample_bytree': 0.6053297034203776, 'reg_alpha': 0.5190892049889064, 'reg_lambda': 0.8515048620002099}. Best is trial 2 with value: 0.7404723366611544.\n",
      "[I 2024-08-19 19:37:49,818] Trial 7 finished with value: 0.733690521977659 and parameters: {'num_leaves': 72, 'max_depth': 6, 'learning_rate': 0.18960076720524915, 'n_estimators': 379, 'min_child_samples': 58, 'min_child_weight': 0.0029557265795815213, 'subsample': 0.5793314561754686, 'colsample_bytree': 0.8675867391427521, 'reg_alpha': 0.7046897023506598, 'reg_lambda': 0.767439451033352}. Best is trial 2 with value: 0.7404723366611544.\n",
      "[I 2024-08-19 19:37:52,263] Trial 8 finished with value: 0.7353629913534352 and parameters: {'num_leaves': 76, 'max_depth': 4, 'learning_rate': 0.232462158998952, 'n_estimators': 836, 'min_child_samples': 199, 'min_child_weight': 0.0037195503159445534, 'subsample': 0.9679326279686334, 'colsample_bytree': 0.642694360864363, 'reg_alpha': 0.30901501362201955, 'reg_lambda': 0.5548163871070707}. Best is trial 2 with value: 0.7404723366611544.\n",
      "[I 2024-08-19 19:37:52,620] Trial 9 finished with value: 0.7399360279765349 and parameters: {'num_leaves': 73, 'max_depth': 4, 'learning_rate': 0.046192738165538955, 'n_estimators': 85, 'min_child_samples': 253, 'min_child_weight': 2.535188739736234e-05, 'subsample': 0.7230644399815449, 'colsample_bytree': 0.952162631145753, 'reg_alpha': 0.03339016841344178, 'reg_lambda': 0.4155012353572366}. Best is trial 2 with value: 0.7404723366611544.\n",
      "[I 2024-08-19 19:37:53,974] Trial 10 finished with value: 0.7233174619791504 and parameters: {'num_leaves': 47, 'max_depth': 10, 'learning_rate': 0.29446271342055075, 'n_estimators': 295, 'min_child_samples': 20, 'min_child_weight': 0.00015340407449085803, 'subsample': 0.8607612646366237, 'colsample_bytree': 0.995824587340993, 'reg_alpha': 0.24857239129187753, 'reg_lambda': 0.0895645876487503}. Best is trial 2 with value: 0.7404723366611544.\n",
      "[I 2024-08-19 19:37:54,505] Trial 11 finished with value: 0.7393919859020174 and parameters: {'num_leaves': 84, 'max_depth': 5, 'learning_rate': 0.027610351174778124, 'n_estimators': 116, 'min_child_samples': 302, 'min_child_weight': 1.6321081166237612e-05, 'subsample': 0.6777506955305654, 'colsample_bytree': 0.9988228579028864, 'reg_alpha': 0.008731642345081995, 'reg_lambda': 0.34335665149183275}. Best is trial 2 with value: 0.7404723366611544.\n",
      "[I 2024-08-19 19:37:54,795] Trial 12 finished with value: 0.7396195939160138 and parameters: {'num_leaves': 53, 'max_depth': 3, 'learning_rate': 0.10167611780319716, 'n_estimators': 95, 'min_child_samples': 108, 'min_child_weight': 1.1902006863558957e-05, 'subsample': 0.7150169904918714, 'colsample_bytree': 0.8660636041624491, 'reg_alpha': 0.09139479388872444, 'reg_lambda': 0.16554232694000592}. Best is trial 2 with value: 0.7404723366611544.\n",
      "[I 2024-08-19 19:37:55,501] Trial 13 finished with value: 0.7400281365867515 and parameters: {'num_leaves': 87, 'max_depth': 5, 'learning_rate': 0.1056112001885444, 'n_estimators': 246, 'min_child_samples': 247, 'min_child_weight': 7.201457539523738e-05, 'subsample': 0.8529171723175534, 'colsample_bytree': 0.8796119379549403, 'reg_alpha': 0.002452448057574025, 'reg_lambda': 0.27188052568360305}. Best is trial 2 with value: 0.7404723366611544.\n",
      "[I 2024-08-19 19:37:57,299] Trial 14 finished with value: 0.7368415608982739 and parameters: {'num_leaves': 87, 'max_depth': 6, 'learning_rate': 0.10837258671438717, 'n_estimators': 496, 'min_child_samples': 118, 'min_child_weight': 9.9078713560638e-05, 'subsample': 0.8607810154972876, 'colsample_bytree': 0.8214477068166751, 'reg_alpha': 0.19512094976718353, 'reg_lambda': 0.2389706804022037}. Best is trial 2 with value: 0.7404723366611544.\n",
      "[I 2024-08-19 19:37:58,025] Trial 15 finished with value: 0.7402327793534084 and parameters: {'num_leaves': 36, 'max_depth': 5, 'learning_rate': 0.09749352865516236, 'n_estimators': 253, 'min_child_samples': 240, 'min_child_weight': 0.00047063976423505536, 'subsample': 0.8702710336455514, 'colsample_bytree': 0.9136649587151581, 'reg_alpha': 0.37158053092021404, 'reg_lambda': 0.28287398030500965}. Best is trial 2 with value: 0.7404723366611544.\n",
      "[I 2024-08-19 19:37:59,643] Trial 16 finished with value: 0.7394158971880225 and parameters: {'num_leaves': 30, 'max_depth': 8, 'learning_rate': 0.07807973441028973, 'n_estimators': 463, 'min_child_samples': 348, 'min_child_weight': 0.00041414440495037534, 'subsample': 0.907286259394143, 'colsample_bytree': 0.7864850784754346, 'reg_alpha': 0.4458485694337698, 'reg_lambda': 0.0046270647174058155}. Best is trial 2 with value: 0.7404723366611544.\n",
      "[I 2024-08-19 19:38:00,226] Trial 17 finished with value: 0.7399478248882175 and parameters: {'num_leaves': 35, 'max_depth': 4, 'learning_rate': 0.17588580731920525, 'n_estimators': 228, 'min_child_samples': 206, 'min_child_weight': 0.0011161370913040202, 'subsample': 0.8059291018308673, 'colsample_bytree': 0.9278780802128569, 'reg_alpha': 0.3943430204205488, 'reg_lambda': 0.5445019983486072}. Best is trial 2 with value: 0.7404723366611544.\n",
      "[I 2024-08-19 19:38:02,976] Trial 18 finished with value: 0.7210879980531666 and parameters: {'num_leaves': 54, 'max_depth': 10, 'learning_rate': 0.24805981703218047, 'n_estimators': 617, 'min_child_samples': 102, 'min_child_weight': 0.00026964001801566467, 'subsample': 0.9083808670002449, 'colsample_bytree': 0.9300377401326458, 'reg_alpha': 0.617568831715307, 'reg_lambda': 0.45244382789211507}. Best is trial 2 with value: 0.7404723366611544.\n",
      "[I 2024-08-19 19:38:04,355] Trial 19 finished with value: 0.7364148022212835 and parameters: {'num_leaves': 41, 'max_depth': 7, 'learning_rate': 0.13532451849867075, 'n_estimators': 403, 'min_child_samples': 313, 'min_child_weight': 0.00018831323191856246, 'subsample': 0.6566507304349465, 'colsample_bytree': 0.7921186701633179, 'reg_alpha': 0.7481203646692272, 'reg_lambda': 0.301428177723135}. Best is trial 2 with value: 0.7404723366611544.\n",
      "[I 2024-08-19 19:38:04,882] Trial 20 finished with value: 0.7388006609419772 and parameters: {'num_leaves': 56, 'max_depth': 5, 'learning_rate': 0.1730949224446583, 'n_estimators': 192, 'min_child_samples': 227, 'min_child_weight': 0.001021467786417825, 'subsample': 0.8186363039563165, 'colsample_bytree': 0.9061981628466985, 'reg_alpha': 0.3737764206161194, 'reg_lambda': 0.5838312735963572}. Best is trial 2 with value: 0.7404723366611544.\n",
      "[I 2024-08-19 19:38:05,551] Trial 21 finished with value: 0.7395949207196741 and parameters: {'num_leaves': 89, 'max_depth': 5, 'learning_rate': 0.10344782974695038, 'n_estimators': 228, 'min_child_samples': 158, 'min_child_weight': 3.9743278127033186e-05, 'subsample': 0.8627110578400059, 'colsample_bytree': 0.8684026614202744, 'reg_alpha': 0.09447144372311712, 'reg_lambda': 0.20677847911942782}. Best is trial 2 with value: 0.7404723366611544.\n",
      "[I 2024-08-19 19:38:06,427] Trial 22 finished with value: 0.7403730660937914 and parameters: {'num_leaves': 23, 'max_depth': 6, 'learning_rate': 0.08427329854929998, 'n_estimators': 318, 'min_child_samples': 242, 'min_child_weight': 7.428738242867594e-05, 'subsample': 0.9070333020906265, 'colsample_bytree': 0.9603193657621877, 'reg_alpha': 0.2028070916307172, 'reg_lambda': 0.3122909404961608}. Best is trial 2 with value: 0.7404723366611544.\n",
      "[I 2024-08-19 19:38:07,362] Trial 23 finished with value: 0.7409436226479574 and parameters: {'num_leaves': 21, 'max_depth': 6, 'learning_rate': 0.07021757278995576, 'n_estimators': 355, 'min_child_samples': 139, 'min_child_weight': 0.0001145216110186665, 'subsample': 0.9301930107244868, 'colsample_bytree': 0.9685915223216187, 'reg_alpha': 0.2571414981325095, 'reg_lambda': 0.34009027845157025}. Best is trial 23 with value: 0.7409436226479574.\n",
      "[I 2024-08-19 19:38:08,524] Trial 24 finished with value: 0.7418894962330136 and parameters: {'num_leaves': 20, 'max_depth': 8, 'learning_rate': 0.02665178267592029, 'n_estimators': 370, 'min_child_samples': 51, 'min_child_weight': 4.96056099791858e-05, 'subsample': 0.9268528239990959, 'colsample_bytree': 0.9699757027264854, 'reg_alpha': 0.2530448808905445, 'reg_lambda': 0.3564681990235679}. Best is trial 24 with value: 0.7418894962330136.\n",
      "[I 2024-08-19 19:38:10,176] Trial 25 finished with value: 0.7393267536788587 and parameters: {'num_leaves': 27, 'max_depth': 9, 'learning_rate': 0.035303796749109384, 'n_estimators': 577, 'min_child_samples': 44, 'min_child_weight': 4.166632435174164e-05, 'subsample': 0.9427258650495655, 'colsample_bytree': 0.9649138001855706, 'reg_alpha': 0.2674643984430688, 'reg_lambda': 0.4006889768733045}. Best is trial 24 with value: 0.7418894962330136.\n",
      "[I 2024-08-19 19:38:11,372] Trial 26 finished with value: 0.7398053603541278 and parameters: {'num_leaves': 20, 'max_depth': 8, 'learning_rate': 0.07089876634031103, 'n_estimators': 409, 'min_child_samples': 78, 'min_child_weight': 1.920267178118147e-05, 'subsample': 0.9329680036272945, 'colsample_bytree': 0.8394047505309422, 'reg_alpha': 0.12359133121390736, 'reg_lambda': 0.5179218186796084}. Best is trial 24 with value: 0.7418894962330136.\n",
      "[I 2024-08-19 19:38:12,110] Trial 27 finished with value: 0.7393253187477282 and parameters: {'num_leaves': 32, 'max_depth': 9, 'learning_rate': 0.01010589417433019, 'n_estimators': 173, 'min_child_samples': 121, 'min_child_weight': 1.0515405095182044e-05, 'subsample': 0.7655945740042975, 'colsample_bytree': 0.9968831505995878, 'reg_alpha': 0.22995855669219467, 'reg_lambda': 0.14338136780166097}. Best is trial 24 with value: 0.7418894962330136.\n",
      "[I 2024-08-19 19:38:14,414] Trial 28 finished with value: 0.7410918650020856 and parameters: {'num_leaves': 62, 'max_depth': 7, 'learning_rate': 0.016736601321108116, 'n_estimators': 362, 'min_child_samples': 78, 'min_child_weight': 0.00012530687125706242, 'subsample': 0.9825261281673106, 'colsample_bytree': 0.7618013832043395, 'reg_alpha': 0.4303330298061061, 'reg_lambda': 0.6424860178372667}. Best is trial 24 with value: 0.7418894962330136.\n",
      "[I 2024-08-19 19:38:16,036] Trial 29 finished with value: 0.7411513448022172 and parameters: {'num_leaves': 47, 'max_depth': 7, 'learning_rate': 0.0167143991955122, 'n_estimators': 361, 'min_child_samples': 21, 'min_child_weight': 0.00013600029660105977, 'subsample': 0.9938031610341177, 'colsample_bytree': 0.730580589212441, 'reg_alpha': 0.4515566118847805, 'reg_lambda': 0.6465505512822733}. Best is trial 24 with value: 0.7418894962330136.\n",
      "[I 2024-08-19 19:38:17,921] Trial 30 finished with value: 0.7411159731149273 and parameters: {'num_leaves': 47, 'max_depth': 7, 'learning_rate': 0.015205346151349303, 'n_estimators': 447, 'min_child_samples': 21, 'min_child_weight': 0.0001326413473969319, 'subsample': 0.9909379160052324, 'colsample_bytree': 0.7567331467693867, 'reg_alpha': 0.45563686166406325, 'reg_lambda': 0.6374601560682274}. Best is trial 24 with value: 0.7418894962330136.\n",
      "[I 2024-08-19 19:38:20,158] Trial 31 finished with value: 0.7410737251868662 and parameters: {'num_leaves': 47, 'max_depth': 7, 'learning_rate': 0.01069913168676788, 'n_estimators': 460, 'min_child_samples': 21, 'min_child_weight': 0.00021759709510651152, 'subsample': 0.9889111748277075, 'colsample_bytree': 0.7274939438116479, 'reg_alpha': 0.45804185203136, 'reg_lambda': 0.6488527082372945}. Best is trial 24 with value: 0.7418894962330136.\n",
      "[I 2024-08-19 19:38:22,178] Trial 32 finished with value: 0.738166205507738 and parameters: {'num_leaves': 42, 'max_depth': 8, 'learning_rate': 0.048971666012607676, 'n_estimators': 521, 'min_child_samples': 76, 'min_child_weight': 0.00014208748368721536, 'subsample': 0.9908302027545075, 'colsample_bytree': 0.7565467349585655, 'reg_alpha': 0.5814823950324018, 'reg_lambda': 0.7157760290759749}. Best is trial 24 with value: 0.7418894962330136.\n",
      "[I 2024-08-19 19:38:23,806] Trial 33 finished with value: 0.7408851714267777 and parameters: {'num_leaves': 59, 'max_depth': 7, 'learning_rate': 0.027579938399315766, 'n_estimators': 327, 'min_child_samples': 61, 'min_child_weight': 4.6058276335921077e-05, 'subsample': 0.9620376833219166, 'colsample_bytree': 0.6877990117702601, 'reg_alpha': 0.6494907109629242, 'reg_lambda': 0.6045602079660475}. Best is trial 24 with value: 0.7418894962330136.\n",
      "[I 2024-08-19 19:38:25,806] Trial 34 finished with value: 0.739287781965237 and parameters: {'num_leaves': 49, 'max_depth': 9, 'learning_rate': 0.05277440223639862, 'n_estimators': 425, 'min_child_samples': 37, 'min_child_weight': 9.295545392917747e-05, 'subsample': 0.9961480201837595, 'colsample_bytree': 0.7479679844960322, 'reg_alpha': 0.45091790953847327, 'reg_lambda': 0.4671025021270534}. Best is trial 24 with value: 0.7418894962330136.\n",
      "[I 2024-08-19 19:38:28,731] Trial 35 finished with value: 0.740116867394484 and parameters: {'num_leaves': 62, 'max_depth': 7, 'learning_rate': 0.02802833531440293, 'n_estimators': 679, 'min_child_samples': 85, 'min_child_weight': 0.0003107361128014693, 'subsample': 0.8939775998897294, 'colsample_bytree': 0.578592236400375, 'reg_alpha': 0.5027879693712811, 'reg_lambda': 0.7343246238333465}. Best is trial 24 with value: 0.7418894962330136.\n",
      "[I 2024-08-19 19:38:31,348] Trial 36 finished with value: 0.7404997844809632 and parameters: {'num_leaves': 69, 'max_depth': 8, 'learning_rate': 0.015694051027223443, 'n_estimators': 541, 'min_child_samples': 497, 'min_child_weight': 5.6473066701299926e-05, 'subsample': 0.9644972873758189, 'colsample_bytree': 0.6803306775739614, 'reg_alpha': 0.32144381597657845, 'reg_lambda': 0.6340305864293949}. Best is trial 24 with value: 0.7418894962330136.\n",
      "[I 2024-08-19 19:38:34,878] Trial 37 finished with value: 0.7374622575017183 and parameters: {'num_leaves': 64, 'max_depth': 7, 'learning_rate': 0.05721088009266574, 'n_estimators': 973, 'min_child_samples': 465, 'min_child_weight': 0.009588286569847275, 'subsample': 0.999810923302086, 'colsample_bytree': 0.7186485889228198, 'reg_alpha': 0.7872684232377863, 'reg_lambda': 0.8529594281277216}. Best is trial 24 with value: 0.7418894962330136.\n",
      "[I 2024-08-19 19:38:37,905] Trial 38 finished with value: 0.7371903063062405 and parameters: {'num_leaves': 51, 'max_depth': 9, 'learning_rate': 0.04208186548622175, 'n_estimators': 672, 'min_child_samples': 49, 'min_child_weight': 0.00012552141520859997, 'subsample': 0.9624020768019413, 'colsample_bytree': 0.7827918664006858, 'reg_alpha': 0.5566860223901222, 'reg_lambda': 0.9578313855780543}. Best is trial 24 with value: 0.7418894962330136.\n",
      "[I 2024-08-19 19:38:39,529] Trial 39 finished with value: 0.7412066023492437 and parameters: {'num_leaves': 44, 'max_depth': 8, 'learning_rate': 0.023966095549844364, 'n_estimators': 363, 'min_child_samples': 95, 'min_child_weight': 3.088475284214163e-05, 'subsample': 0.5255644639501895, 'colsample_bytree': 0.6013775011300041, 'reg_alpha': 0.3911134970949468, 'reg_lambda': 0.7828074699231944}. Best is trial 24 with value: 0.7418894962330136.\n",
      "[I 2024-08-19 19:38:41,699] Trial 40 finished with value: 0.7363627891424325 and parameters: {'num_leaves': 44, 'max_depth': 8, 'learning_rate': 0.13099273581249898, 'n_estimators': 452, 'min_child_samples': 154, 'min_child_weight': 3.0477075385498913e-05, 'subsample': 0.5606194224561323, 'colsample_bytree': 0.5150651961379815, 'reg_alpha': 0.3405881397794746, 'reg_lambda': 0.8866768178465166}. Best is trial 24 with value: 0.7418894962330136.\n",
      "[I 2024-08-19 19:38:43,605] Trial 41 finished with value: 0.7411093508442678 and parameters: {'num_leaves': 58, 'max_depth': 8, 'learning_rate': 0.024809320722973562, 'n_estimators': 372, 'min_child_samples': 92, 'min_child_weight': 6.383418949162557e-05, 'subsample': 0.532718301108935, 'colsample_bytree': 0.5968293966680016, 'reg_alpha': 0.4148000730282609, 'reg_lambda': 0.6780012748441329}. Best is trial 24 with value: 0.7418894962330136.\n",
      "[I 2024-08-19 19:38:44,793] Trial 42 finished with value: 0.7411416113976911 and parameters: {'num_leaves': 38, 'max_depth': 8, 'learning_rate': 0.04011317032635979, 'n_estimators': 285, 'min_child_samples': 21, 'min_child_weight': 6.245167640844269e-05, 'subsample': 0.522609543913632, 'colsample_bytree': 0.5635357091868933, 'reg_alpha': 0.5064721480930382, 'reg_lambda': 0.8170123566198566}. Best is trial 24 with value: 0.7418894962330136.\n",
      "[I 2024-08-19 19:38:45,967] Trial 43 finished with value: 0.7403530786460101 and parameters: {'num_leaves': 37, 'max_depth': 9, 'learning_rate': 0.06323102609896894, 'n_estimators': 299, 'min_child_samples': 23, 'min_child_weight': 2.580711301417002e-05, 'subsample': 0.5091832574376524, 'colsample_bytree': 0.557544009769841, 'reg_alpha': 0.5423053342195913, 'reg_lambda': 0.7835643684467579}. Best is trial 24 with value: 0.7418894962330136.\n",
      "[I 2024-08-19 19:38:47,141] Trial 44 finished with value: 0.741240704185976 and parameters: {'num_leaves': 39, 'max_depth': 8, 'learning_rate': 0.0374587920110781, 'n_estimators': 293, 'min_child_samples': 58, 'min_child_weight': 4.8873961574042035e-05, 'subsample': 0.6035718447425574, 'colsample_bytree': 0.6308177800036077, 'reg_alpha': 0.4914385912755664, 'reg_lambda': 0.9085229468233498}. Best is trial 24 with value: 0.7418894962330136.\n",
      "[I 2024-08-19 19:38:48,088] Trial 45 finished with value: 0.7414971505061421 and parameters: {'num_leaves': 39, 'max_depth': 8, 'learning_rate': 0.04185787714728327, 'n_estimators': 162, 'min_child_samples': 64, 'min_child_weight': 3.527248728156954e-05, 'subsample': 0.6261185499465209, 'colsample_bytree': 0.628467670359413, 'reg_alpha': 0.4877644165369812, 'reg_lambda': 0.9125707116267907}. Best is trial 24 with value: 0.7418894962330136.\n",
      "[I 2024-08-19 19:38:48,672] Trial 46 finished with value: 0.7416495452715947 and parameters: {'num_leaves': 34, 'max_depth': 9, 'learning_rate': 0.08684931273952692, 'n_estimators': 141, 'min_child_samples': 62, 'min_child_weight': 1.6796113992651804e-05, 'subsample': 0.6186529113001429, 'colsample_bytree': 0.6329003919122242, 'reg_alpha': 0.30042872567634676, 'reg_lambda': 0.912417212859393}. Best is trial 24 with value: 0.7418894962330136.\n",
      "[I 2024-08-19 19:38:49,255] Trial 47 finished with value: 0.7406436141044028 and parameters: {'num_leaves': 29, 'max_depth': 10, 'learning_rate': 0.08240591443679879, 'n_estimators': 154, 'min_child_samples': 65, 'min_child_weight': 1.4052523513382755e-05, 'subsample': 0.6258937076742577, 'colsample_bytree': 0.6272908909489515, 'reg_alpha': 0.29536968933797203, 'reg_lambda': 0.9914078225404649}. Best is trial 24 with value: 0.7418894962330136.\n",
      "[I 2024-08-19 19:38:49,781] Trial 48 finished with value: 0.741547696907599 and parameters: {'num_leaves': 33, 'max_depth': 9, 'learning_rate': 0.054251872350706956, 'n_estimators': 128, 'min_child_samples': 129, 'min_child_weight': 2.0082111263521676e-05, 'subsample': 0.5953792486486563, 'colsample_bytree': 0.6624024468137971, 'reg_alpha': 0.14461961873558224, 'reg_lambda': 0.8813070130556994}. Best is trial 24 with value: 0.7418894962330136.\n",
      "[I 2024-08-19 19:38:50,038] Trial 49 finished with value: 0.7404436380385462 and parameters: {'num_leaves': 33, 'max_depth': 9, 'learning_rate': 0.08877558902526986, 'n_estimators': 51, 'min_child_samples': 189, 'min_child_weight': 1.8801221603841677e-05, 'subsample': 0.5893622047595919, 'colsample_bytree': 0.6408864140951519, 'reg_alpha': 0.15450056530187495, 'reg_lambda': 0.8976068769738147}. Best is trial 24 with value: 0.7418894962330136.\n",
      "[I 2024-08-19 19:38:50,610] Trial 50 finished with value: 0.7399869299361478 and parameters: {'num_leaves': 26, 'max_depth': 10, 'learning_rate': 0.11834168469157358, 'n_estimators': 161, 'min_child_samples': 139, 'min_child_weight': 1.4833909584094823e-05, 'subsample': 0.6291319224523416, 'colsample_bytree': 0.666291434273794, 'reg_alpha': 0.15311494340560283, 'reg_lambda': 0.9238582069973073}. Best is trial 24 with value: 0.7418894962330136.\n",
      "[I 2024-08-19 19:38:51,182] Trial 51 finished with value: 0.74119143398433 and parameters: {'num_leaves': 38, 'max_depth': 9, 'learning_rate': 0.03715950823875483, 'n_estimators': 123, 'min_child_samples': 101, 'min_child_weight': 3.4402688409189076e-05, 'subsample': 0.6788844497670874, 'colsample_bytree': 0.6091962733132887, 'reg_alpha': 0.35790337502607616, 'reg_lambda': 0.8431516634217202}. Best is trial 24 with value: 0.7418894962330136.\n",
      "[I 2024-08-19 19:38:51,456] Trial 52 finished with value: 0.7404580825886422 and parameters: {'num_leaves': 32, 'max_depth': 8, 'learning_rate': 0.06110226841080987, 'n_estimators': 58, 'min_child_samples': 56, 'min_child_weight': 2.2678606939049907e-05, 'subsample': 0.5519199456317117, 'colsample_bytree': 0.6195724685675463, 'reg_alpha': 0.06216814541878368, 'reg_lambda': 0.9966836263626254}. Best is trial 24 with value: 0.7418894962330136.\n",
      "[I 2024-08-19 19:38:52,468] Trial 53 finished with value: 0.7405168068276918 and parameters: {'num_leaves': 41, 'max_depth': 9, 'learning_rate': 0.053893975536573116, 'n_estimators': 266, 'min_child_samples': 120, 'min_child_weight': 2.8900865239526478e-05, 'subsample': 0.5999610812855122, 'colsample_bytree': 0.6544312242447696, 'reg_alpha': 0.29180818086101157, 'reg_lambda': 0.879984456764271}. Best is trial 24 with value: 0.7418894962330136.\n",
      "[I 2024-08-19 19:38:53,450] Trial 54 finished with value: 0.7414264261793204 and parameters: {'num_leaves': 29, 'max_depth': 8, 'learning_rate': 0.06770800011811487, 'n_estimators': 220, 'min_child_samples': 137, 'min_child_weight': 1.2967557042020532e-05, 'subsample': 0.6260051844753074, 'colsample_bytree': 0.5911823909979588, 'reg_alpha': 0.39301719088848286, 'reg_lambda': 0.9539471605567565}. Best is trial 24 with value: 0.7418894962330136.\n",
      "[I 2024-08-19 19:38:54,168] Trial 55 finished with value: 0.7409429305794033 and parameters: {'num_leaves': 23, 'max_depth': 9, 'learning_rate': 0.07047221173596037, 'n_estimators': 214, 'min_child_samples': 182, 'min_child_weight': 1.1896887776983965e-05, 'subsample': 0.6203237743183329, 'colsample_bytree': 0.5498574520096151, 'reg_alpha': 0.22781768927631582, 'reg_lambda': 0.9355469023513464}. Best is trial 24 with value: 0.7418894962330136.\n",
      "[I 2024-08-19 19:38:54,641] Trial 56 finished with value: 0.7411423288632562 and parameters: {'num_leaves': 29, 'max_depth': 10, 'learning_rate': 0.04566315618207048, 'n_estimators': 117, 'min_child_samples': 68, 'min_child_weight': 1.9547154905453893e-05, 'subsample': 0.6622185257976819, 'colsample_bytree': 0.7009609225294862, 'reg_alpha': 0.18001621393184009, 'reg_lambda': 0.9419584193871363}. Best is trial 24 with value: 0.7418894962330136.\n",
      "[I 2024-08-19 19:38:55,141] Trial 57 finished with value: 0.7384916999519896 and parameters: {'num_leaves': 25, 'max_depth': 8, 'learning_rate': 0.21915653157276993, 'n_estimators': 145, 'min_child_samples': 137, 'min_child_weight': 1.0025031648860304e-05, 'subsample': 0.6450239087412293, 'colsample_bytree': 0.67019193492288, 'reg_alpha': 0.6221809074752311, 'reg_lambda': 0.8414540122742133}. Best is trial 24 with value: 0.7418894962330136.\n",
      "[I 2024-08-19 19:38:55,901] Trial 58 finished with value: 0.7400633304949633 and parameters: {'num_leaves': 35, 'max_depth': 9, 'learning_rate': 0.09126733321479397, 'n_estimators': 197, 'min_child_samples': 215, 'min_child_weight': 4.578099386360008e-05, 'subsample': 0.6973463408446975, 'colsample_bytree': 0.5872149985210676, 'reg_alpha': 0.27557934605607126, 'reg_lambda': 0.9747617489806419}. Best is trial 24 with value: 0.7418894962330136.\n",
      "[I 2024-08-19 19:38:56,755] Trial 59 finished with value: 0.739047710368015 and parameters: {'num_leaves': 28, 'max_depth': 10, 'learning_rate': 0.11358203434911979, 'n_estimators': 247, 'min_child_samples': 273, 'min_child_weight': 1.4699336619109255e-05, 'subsample': 0.5759344884801987, 'colsample_bytree': 0.6379422106293228, 'reg_alpha': 0.9895057710623787, 'reg_lambda': 0.9140334192012328}. Best is trial 24 with value: 0.7418894962330136.\n",
      "[I 2024-08-19 19:38:57,395] Trial 60 finished with value: 0.7410150263448276 and parameters: {'num_leaves': 23, 'max_depth': 8, 'learning_rate': 0.07302012301488499, 'n_estimators': 180, 'min_child_samples': 42, 'min_child_weight': 2.2383732062807976e-05, 'subsample': 0.6088180134234447, 'colsample_bytree': 0.5030946632083271, 'reg_alpha': 0.48451165898759396, 'reg_lambda': 0.3941600044389822}. Best is trial 24 with value: 0.7418894962330136.\n",
      "[I 2024-08-19 19:38:58,690] Trial 61 finished with value: 0.7412184246579377 and parameters: {'num_leaves': 44, 'max_depth': 8, 'learning_rate': 0.03295201574465544, 'n_estimators': 280, 'min_child_samples': 103, 'min_child_weight': 3.6172159552108184e-05, 'subsample': 0.5650813869660649, 'colsample_bytree': 0.5381695104757482, 'reg_alpha': 0.3925504785824329, 'reg_lambda': 0.7859180980752388}. Best is trial 24 with value: 0.7418894962330136.\n",
      "[I 2024-08-19 19:38:59,248] Trial 62 finished with value: 0.7400688289478791 and parameters: {'num_leaves': 40, 'max_depth': 8, 'learning_rate': 0.03412355167832761, 'n_estimators': 84, 'min_child_samples': 109, 'min_child_weight': 3.652204155378092e-05, 'subsample': 0.5649962154989636, 'colsample_bytree': 0.5381114826888418, 'reg_alpha': 0.3234540174078841, 'reg_lambda': 0.8590345651356671}. Best is trial 24 with value: 0.7418894962330136.\n",
      "[I 2024-08-19 19:39:00,124] Trial 63 finished with value: 0.741060493344053 and parameters: {'num_leaves': 33, 'max_depth': 9, 'learning_rate': 0.048317376852317725, 'n_estimators': 220, 'min_child_samples': 157, 'min_child_weight': 5.34730465157002e-05, 'subsample': 0.5905521263542589, 'colsample_bytree': 0.584829544069795, 'reg_alpha': 0.396138166788892, 'reg_lambda': 0.8087267557794894}. Best is trial 24 with value: 0.7418894962330136.\n",
      "[I 2024-08-19 19:39:01,179] Trial 64 finished with value: 0.7403671739872028 and parameters: {'num_leaves': 30, 'max_depth': 8, 'learning_rate': 0.06329742356955309, 'n_estimators': 318, 'min_child_samples': 132, 'min_child_weight': 1.663935388843032e-05, 'subsample': 0.7444696762263194, 'colsample_bytree': 0.6237771598293723, 'reg_alpha': 0.35345808016938046, 'reg_lambda': 0.7454189709393665}. Best is trial 24 with value: 0.7418894962330136.\n",
      "[I 2024-08-19 19:39:02,175] Trial 65 finished with value: 0.7399820410115 and parameters: {'num_leaves': 35, 'max_depth': 9, 'learning_rate': 0.07975558584046599, 'n_estimators': 270, 'min_child_samples': 85, 'min_child_weight': 2.7161465667805812e-05, 'subsample': 0.6371553456910836, 'colsample_bytree': 0.5698050985714026, 'reg_alpha': 0.21074363915685074, 'reg_lambda': 0.9597633435739734}. Best is trial 24 with value: 0.7418894962330136.\n",
      "[I 2024-08-19 19:39:02,606] Trial 66 finished with value: 0.7391452348908609 and parameters: {'num_leaves': 39, 'max_depth': 8, 'learning_rate': 0.027439105680690547, 'n_estimators': 89, 'min_child_samples': 38, 'min_child_weight': 8.679548520412601e-05, 'subsample': 0.541073867393284, 'colsample_bytree': 0.529936281513769, 'reg_alpha': 0.47650015573731574, 'reg_lambda': 0.9064875244200171}. Best is trial 24 with value: 0.7418894962330136.\n",
      "[I 2024-08-19 19:39:03,349] Trial 67 finished with value: 0.7414298166803098 and parameters: {'num_leaves': 31, 'max_depth': 6, 'learning_rate': 0.0354085033335932, 'n_estimators': 205, 'min_child_samples': 176, 'min_child_weight': 4.488395945574255e-05, 'subsample': 0.6124827084914077, 'colsample_bytree': 0.6124305930112657, 'reg_alpha': 0.4162221998332048, 'reg_lambda': 0.876745349819961}. Best is trial 24 with value: 0.7418894962330136.\n",
      "[I 2024-08-19 19:39:03,786] Trial 68 finished with value: 0.7409292796859059 and parameters: {'num_leaves': 21, 'max_depth': 6, 'learning_rate': 0.09262383008369848, 'n_estimators': 132, 'min_child_samples': 173, 'min_child_weight': 4.929191832128377e-05, 'subsample': 0.6119310953513126, 'colsample_bytree': 0.6493579135088126, 'reg_alpha': 0.4250286121861117, 'reg_lambda': 0.9298426186204589}. Best is trial 24 with value: 0.7418894962330136.\n",
      "[I 2024-08-19 19:39:04,626] Trial 69 finished with value: 0.7387752258353026 and parameters: {'num_leaves': 26, 'max_depth': 6, 'learning_rate': 0.16104922757742074, 'n_estimators': 196, 'min_child_samples': 115, 'min_child_weight': 1.2868660839853892e-05, 'subsample': 0.655268879813822, 'colsample_bytree': 0.6134876019362586, 'reg_alpha': 0.515056836824639, 'reg_lambda': 0.8176282247817375}. Best is trial 24 with value: 0.7418894962330136.\n",
      "[I 2024-08-19 19:39:05,558] Trial 70 finished with value: 0.7404146346518039 and parameters: {'num_leaves': 31, 'max_depth': 7, 'learning_rate': 0.06335262561510308, 'n_estimators': 239, 'min_child_samples': 149, 'min_child_weight': 7.925527393818045e-05, 'subsample': 0.6896246145949486, 'colsample_bytree': 0.6801874360165876, 'reg_alpha': 0.2472650904542211, 'reg_lambda': 0.8791111055119905}. Best is trial 24 with value: 0.7418894962330136.\n",
      "[I 2024-08-19 19:39:06,663] Trial 71 finished with value: 0.7414208642338767 and parameters: {'num_leaves': 35, 'max_depth': 6, 'learning_rate': 0.03858312818563871, 'n_estimators': 329, 'min_child_samples': 69, 'min_child_weight': 3.836755136392902e-05, 'subsample': 0.5748305295077617, 'colsample_bytree': 0.6328494465250867, 'reg_alpha': 0.381853831688998, 'reg_lambda': 0.8679257980665434}. Best is trial 24 with value: 0.7418894962330136.\n",
      "[I 2024-08-19 19:39:07,790] Trial 72 finished with value: 0.7407698626468684 and parameters: {'num_leaves': 34, 'max_depth': 6, 'learning_rate': 0.04357465188438024, 'n_estimators': 326, 'min_child_samples': 72, 'min_child_weight': 2.192623630070607e-05, 'subsample': 0.5847603081289414, 'colsample_bytree': 0.6301218275364402, 'reg_alpha': 0.3126976825232, 'reg_lambda': 0.9733552705064403}. Best is trial 24 with value: 0.7418894962330136.\n",
      "[I 2024-08-19 19:39:08,329] Trial 73 finished with value: 0.7417010313624643 and parameters: {'num_leaves': 95, 'max_depth': 5, 'learning_rate': 0.05252317606806772, 'n_estimators': 155, 'min_child_samples': 62, 'min_child_weight': 4.037886699024774e-05, 'subsample': 0.6034143465490145, 'colsample_bytree': 0.6627406273308356, 'reg_alpha': 0.5433494549998865, 'reg_lambda': 0.8725717462367801}. Best is trial 24 with value: 0.7418894962330136.\n",
      "[I 2024-08-19 19:39:08,901] Trial 74 finished with value: 0.7415756590168836 and parameters: {'num_leaves': 100, 'max_depth': 5, 'learning_rate': 0.05095621668990653, 'n_estimators': 170, 'min_child_samples': 91, 'min_child_weight': 1.6558625594437872e-05, 'subsample': 0.6380308406077035, 'colsample_bytree': 0.6655547208094481, 'reg_alpha': 0.5838975074527017, 'reg_lambda': 0.8697883252680862}. Best is trial 24 with value: 0.7418894962330136.\n",
      "[I 2024-08-19 19:39:09,283] Trial 75 finished with value: 0.7409951150880799 and parameters: {'num_leaves': 98, 'max_depth': 5, 'learning_rate': 0.051595665356584, 'n_estimators': 100, 'min_child_samples': 92, 'min_child_weight': 1.74919735120435e-05, 'subsample': 0.7102559958823925, 'colsample_bytree': 0.6652003025573422, 'reg_alpha': 0.6990675894540905, 'reg_lambda': 0.36902241189836393}. Best is trial 24 with value: 0.7418894962330136.\n",
      "[I 2024-08-19 19:39:09,722] Trial 76 finished with value: 0.7410300804231915 and parameters: {'num_leaves': 96, 'max_depth': 4, 'learning_rate': 0.07666359694744103, 'n_estimators': 167, 'min_child_samples': 372, 'min_child_weight': 1.1959614494417956e-05, 'subsample': 0.6452249014947986, 'colsample_bytree': 0.7038506410281223, 'reg_alpha': 0.5698608530353477, 'reg_lambda': 0.8384601419928824}. Best is trial 24 with value: 0.7418894962330136.\n",
      "[I 2024-08-19 19:39:10,376] Trial 77 finished with value: 0.7412908950292766 and parameters: {'num_leaves': 79, 'max_depth': 5, 'learning_rate': 0.05660342250730031, 'n_estimators': 141, 'min_child_samples': 49, 'min_child_weight': 2.1775034671802326e-05, 'subsample': 0.6641516216729867, 'colsample_bytree': 0.6524524497496544, 'reg_alpha': 0.5931035120583379, 'reg_lambda': 0.6955588170316038}. Best is trial 24 with value: 0.7418894962330136.\n",
      "[I 2024-08-19 19:39:10,722] Trial 78 finished with value: 0.7376389762546072 and parameters: {'num_leaves': 92, 'max_depth': 5, 'learning_rate': 0.01814212782868706, 'n_estimators': 69, 'min_child_samples': 121, 'min_child_weight': 1.6321172955910324e-05, 'subsample': 0.6211321897083163, 'colsample_bytree': 0.8220572915903016, 'reg_alpha': 0.6644745086164849, 'reg_lambda': 0.03159697295381425}. Best is trial 24 with value: 0.7418894962330136.\n",
      "[I 2024-08-19 19:39:11,324] Trial 79 finished with value: 0.7399518947592556 and parameters: {'num_leaves': 93, 'max_depth': 4, 'learning_rate': 0.1922036574313927, 'n_estimators': 206, 'min_child_samples': 167, 'min_child_weight': 0.0021989783352278037, 'subsample': 0.6713194471301263, 'colsample_bytree': 0.5979558917907347, 'reg_alpha': 0.5297289799865015, 'reg_lambda': 0.7514462499822677}. Best is trial 24 with value: 0.7418894962330136.\n",
      "[I 2024-08-19 19:39:11,735] Trial 80 finished with value: 0.7407154178041989 and parameters: {'num_leaves': 77, 'max_depth': 5, 'learning_rate': 0.07014673316884715, 'n_estimators': 111, 'min_child_samples': 81, 'min_child_weight': 2.5009160494924636e-05, 'subsample': 0.7834137154102414, 'colsample_bytree': 0.6850062091984906, 'reg_alpha': 0.1023323015688059, 'reg_lambda': 0.9512473914004621}. Best is trial 24 with value: 0.7418894962330136.\n",
      "[I 2024-08-19 19:39:12,409] Trial 81 finished with value: 0.7340938836581206 and parameters: {'num_leaves': 100, 'max_depth': 6, 'learning_rate': 0.29943491490590013, 'n_estimators': 181, 'min_child_samples': 34, 'min_child_weight': 2.7516982785531164e-05, 'subsample': 0.6015370521002674, 'colsample_bytree': 0.6138240958155621, 'reg_alpha': 0.421997301516327, 'reg_lambda': 0.8807672506347305}. Best is trial 24 with value: 0.7418894962330136.\n",
      "[I 2024-08-19 19:39:12,953] Trial 82 finished with value: 0.7397133406334502 and parameters: {'num_leaves': 95, 'max_depth': 3, 'learning_rate': 0.04307020809151034, 'n_estimators': 233, 'min_child_samples': 67, 'min_child_weight': 4.0730892884982095e-05, 'subsample': 0.8430876105204816, 'colsample_bytree': 0.6723552324777509, 'reg_alpha': 0.4693844970824268, 'reg_lambda': 0.8629779919527287}. Best is trial 24 with value: 0.7418894962330136.\n",
      "[I 2024-08-19 19:39:13,600] Trial 83 finished with value: 0.7406538681476578 and parameters: {'num_leaves': 82, 'max_depth': 6, 'learning_rate': 0.02053402403213596, 'n_estimators': 154, 'min_child_samples': 52, 'min_child_weight': 6.698088215655248e-05, 'subsample': 0.5739329973157429, 'colsample_bytree': 0.7149268319750925, 'reg_alpha': 0.3829955752711037, 'reg_lambda': 0.8197012738043771}. Best is trial 24 with value: 0.7418894962330136.\n",
      "[I 2024-08-19 19:39:14,747] Trial 84 finished with value: 0.7412597201980805 and parameters: {'num_leaves': 24, 'max_depth': 5, 'learning_rate': 0.030833985056873667, 'n_estimators': 389, 'min_child_samples': 93, 'min_child_weight': 3.102535073397529e-05, 'subsample': 0.6378346423449457, 'colsample_bytree': 0.6396999845413568, 'reg_alpha': 0.34962331676887926, 'reg_lambda': 0.25179804749227597}. Best is trial 24 with value: 0.7418894962330136.\n",
      "[I 2024-08-19 19:39:16,476] Trial 85 finished with value: 0.7391015139361528 and parameters: {'num_leaves': 36, 'max_depth': 6, 'learning_rate': 0.05727423643625054, 'n_estimators': 489, 'min_child_samples': 109, 'min_child_weight': 3.896740973007341e-05, 'subsample': 0.596724289086596, 'colsample_bytree': 0.6947382628667234, 'reg_alpha': 0.5396300995609308, 'reg_lambda': 0.9012962851731877}. Best is trial 24 with value: 0.7418894962330136.\n",
      "[I 2024-08-19 19:39:16,972] Trial 86 finished with value: 0.7418248862366281 and parameters: {'num_leaves': 27, 'max_depth': 6, 'learning_rate': 0.06621310017589954, 'n_estimators': 133, 'min_child_samples': 146, 'min_child_weight': 1.1359452995339411e-05, 'subsample': 0.5426164756587009, 'colsample_bytree': 0.5750724360673631, 'reg_alpha': 0.05323443899701018, 'reg_lambda': 0.8684102195022718}. Best is trial 24 with value: 0.7418894962330136.\n",
      "[I 2024-08-19 19:39:17,370] Trial 87 finished with value: 0.7388213468075653 and parameters: {'num_leaves': 21, 'max_depth': 4, 'learning_rate': 0.2807963540601425, 'n_estimators': 130, 'min_child_samples': 197, 'min_child_weight': 1.1100138904477317e-05, 'subsample': 0.5525562377601476, 'colsample_bytree': 0.5908578071733849, 'reg_alpha': 0.05076957874060596, 'reg_lambda': 0.44381115664962284}. Best is trial 24 with value: 0.7418894962330136.\n",
      "[I 2024-08-19 19:39:17,739] Trial 88 finished with value: 0.7412157579717663 and parameters: {'num_leaves': 28, 'max_depth': 7, 'learning_rate': 0.09925958069475002, 'n_estimators': 89, 'min_child_samples': 148, 'min_child_weight': 1.3109184176922468e-05, 'subsample': 0.616708871221519, 'colsample_bytree': 0.578357249488453, 'reg_alpha': 0.03262804901952881, 'reg_lambda': 0.7923680722916457}. Best is trial 24 with value: 0.7418894962330136.\n",
      "[I 2024-08-19 19:39:18,358] Trial 89 finished with value: 0.7412849076838962 and parameters: {'num_leaves': 89, 'max_depth': 5, 'learning_rate': 0.06689722285593978, 'n_estimators': 181, 'min_child_samples': 129, 'min_child_weight': 0.000643865365561785, 'subsample': 0.5008241682894053, 'colsample_bytree': 0.60373198082665, 'reg_alpha': 0.1645116000580817, 'reg_lambda': 0.9310499021209719}. Best is trial 24 with value: 0.7418894962330136.\n",
      "[I 2024-08-19 19:39:19,146] Trial 90 finished with value: 0.7413267238627675 and parameters: {'num_leaves': 31, 'max_depth': 7, 'learning_rate': 0.050483968563927256, 'n_estimators': 217, 'min_child_samples': 83, 'min_child_weight': 1.7765994624801683e-05, 'subsample': 0.6322621728045276, 'colsample_bytree': 0.5694770141301339, 'reg_alpha': 0.12427876510958372, 'reg_lambda': 0.9763953696981688}. Best is trial 24 with value: 0.7418894962330136.\n",
      "[I 2024-08-19 19:39:19,977] Trial 91 finished with value: 0.7412852886390635 and parameters: {'num_leaves': 27, 'max_depth': 6, 'learning_rate': 0.03862369521764712, 'n_estimators': 253, 'min_child_samples': 67, 'min_child_weight': 1.4817853070102758e-05, 'subsample': 0.5830202365470221, 'colsample_bytree': 0.6577865363026254, 'reg_alpha': 0.44467409486015075, 'reg_lambda': 0.8673536547234312}. Best is trial 24 with value: 0.7418894962330136.\n",
      "[I 2024-08-19 19:39:20,550] Trial 92 finished with value: 0.740163007414505 and parameters: {'num_leaves': 33, 'max_depth': 6, 'learning_rate': 0.08587401086644769, 'n_estimators': 161, 'min_child_samples': 33, 'min_child_weight': 1.0088200701993045e-05, 'subsample': 0.6484631105912222, 'colsample_bytree': 0.6473690255214309, 'reg_alpha': 0.5967027352442045, 'reg_lambda': 0.8358190558165506}. Best is trial 24 with value: 0.7418894962330136.\n",
      "[I 2024-08-19 19:39:20,963] Trial 93 finished with value: 0.7408918127451953 and parameters: {'num_leaves': 70, 'max_depth': 5, 'learning_rate': 0.04625290273054593, 'n_estimators': 109, 'min_child_samples': 173, 'min_child_weight': 2.07320957870131e-05, 'subsample': 0.5506688216235608, 'colsample_bytree': 0.6201699204454071, 'reg_alpha': 0.2826345651355396, 'reg_lambda': 0.909762174512831}. Best is trial 24 with value: 0.7418894962330136.\n",
      "[I 2024-08-19 19:39:21,714] Trial 94 finished with value: 0.7413373842582011 and parameters: {'num_leaves': 98, 'max_depth': 6, 'learning_rate': 0.06106008655085406, 'n_estimators': 136, 'min_child_samples': 96, 'min_child_weight': 3.339157816547543e-05, 'subsample': 0.5769392639523219, 'colsample_bytree': 0.6068137811767892, 'reg_alpha': 0.41077241700679185, 'reg_lambda': 0.7683724921322006}. Best is trial 24 with value: 0.7418894962330136.\n",
      "[I 2024-08-19 19:39:22,395] Trial 95 finished with value: 0.741482407541165 and parameters: {'num_leaves': 20, 'max_depth': 5, 'learning_rate': 0.07711000913874579, 'n_estimators': 196, 'min_child_samples': 141, 'min_child_weight': 2.4251128067119462e-05, 'subsample': 0.5405805495263162, 'colsample_bytree': 0.5510739817438434, 'reg_alpha': 0.2187783164861239, 'reg_lambda': 0.8944738997665584}. Best is trial 24 with value: 0.7418894962330136.\n",
      "[I 2024-08-19 19:39:22,674] Trial 96 finished with value: 0.74050492102647 and parameters: {'num_leaves': 20, 'max_depth': 5, 'learning_rate': 0.074318344264364, 'n_estimators': 70, 'min_child_samples': 148, 'min_child_weight': 2.3902167166084014e-05, 'subsample': 0.5141657381948069, 'colsample_bytree': 0.5580052355795612, 'reg_alpha': 0.12126778070181152, 'reg_lambda': 0.4785870318226117}. Best is trial 24 with value: 0.7418894962330136.\n",
      "[I 2024-08-19 19:39:23,210] Trial 97 finished with value: 0.7410469694356114 and parameters: {'num_leaves': 25, 'max_depth': 5, 'learning_rate': 0.07807418852320731, 'n_estimators': 188, 'min_child_samples': 124, 'min_child_weight': 1.9207086033281747e-05, 'subsample': 0.5324101933668431, 'colsample_bytree': 0.9845449818202302, 'reg_alpha': 0.22174950632974005, 'reg_lambda': 0.999420632821442}. Best is trial 24 with value: 0.7418894962330136.\n",
      "[I 2024-08-19 19:39:23,928] Trial 98 finished with value: 0.7402407857611758 and parameters: {'num_leaves': 22, 'max_depth': 4, 'learning_rate': 0.12694308344944172, 'n_estimators': 208, 'min_child_samples': 182, 'min_child_weight': 0.00017764219778409159, 'subsample': 0.8822675175204131, 'colsample_bytree': 0.5503920814878338, 'reg_alpha': 0.25911907566102693, 'reg_lambda': 0.8915480110772223}. Best is trial 24 with value: 0.7418894962330136.\n",
      "[I 2024-08-19 19:39:24,495] Trial 99 finished with value: 0.740963870415103 and parameters: {'num_leaves': 29, 'max_depth': 10, 'learning_rate': 0.09402412359365689, 'n_estimators': 165, 'min_child_samples': 143, 'min_child_weight': 1.5255292970859744e-05, 'subsample': 0.6085421416918088, 'colsample_bytree': 0.7351979370800963, 'reg_alpha': 0.5598694024605102, 'reg_lambda': 0.19698932025628668}. Best is trial 24 with value: 0.7418894962330136.\n"
     ]
    }
   ],
   "source": [
    "study.optimize(objective, n_trials=100)  "
   ]
  },
  {
   "cell_type": "code",
   "execution_count": 40,
   "id": "7cbc933d",
   "metadata": {},
   "outputs": [
    {
     "name": "stdout",
     "output_type": "stream",
     "text": [
      "Number of finished trials: 100\n",
      "Best trial: {'num_leaves': 20, 'max_depth': 8, 'learning_rate': 0.02665178267592029, 'n_estimators': 370, 'min_child_samples': 51, 'min_child_weight': 4.96056099791858e-05, 'subsample': 0.9268528239990959, 'colsample_bytree': 0.9699757027264854, 'reg_alpha': 0.2530448808905445, 'reg_lambda': 0.3564681990235679}\n"
     ]
    }
   ],
   "source": [
    "print('Number of finished trials:', len(study.trials))\n",
    "print('Best trial:', study.best_trial.params)"
   ]
  },
  {
   "cell_type": "code",
   "execution_count": 41,
   "id": "49b437a3",
   "metadata": {},
   "outputs": [],
   "source": [
    "params = study.best_trial.params"
   ]
  },
  {
   "cell_type": "code",
   "execution_count": 42,
   "id": "0ea78b44",
   "metadata": {},
   "outputs": [
    {
     "data": {
      "text/plain": [
       "{'num_leaves': 20,\n",
       " 'max_depth': 8,\n",
       " 'learning_rate': 0.02665178267592029,\n",
       " 'n_estimators': 370,\n",
       " 'min_child_samples': 51,\n",
       " 'min_child_weight': 4.96056099791858e-05,\n",
       " 'subsample': 0.9268528239990959,\n",
       " 'colsample_bytree': 0.9699757027264854,\n",
       " 'reg_alpha': 0.2530448808905445,\n",
       " 'reg_lambda': 0.3564681990235679}"
      ]
     },
     "execution_count": 42,
     "metadata": {},
     "output_type": "execute_result"
    }
   ],
   "source": [
    "params"
   ]
  },
  {
   "cell_type": "code",
   "execution_count": 43,
   "id": "3c91e8c8",
   "metadata": {},
   "outputs": [],
   "source": [
    "params[\"random_state\"] = 42"
   ]
  },
  {
   "cell_type": "code",
   "execution_count": 44,
   "id": "3667fd56",
   "metadata": {},
   "outputs": [],
   "source": [
    "params[\"class_weight\"] = \"balanced\""
   ]
  },
  {
   "cell_type": "code",
   "execution_count": 45,
   "id": "458142a0",
   "metadata": {},
   "outputs": [
    {
     "data": {
      "text/plain": [
       "{'num_leaves': 20,\n",
       " 'max_depth': 8,\n",
       " 'learning_rate': 0.02665178267592029,\n",
       " 'n_estimators': 370,\n",
       " 'min_child_samples': 51,\n",
       " 'min_child_weight': 4.96056099791858e-05,\n",
       " 'subsample': 0.9268528239990959,\n",
       " 'colsample_bytree': 0.9699757027264854,\n",
       " 'reg_alpha': 0.2530448808905445,\n",
       " 'reg_lambda': 0.3564681990235679,\n",
       " 'random_state': 42,\n",
       " 'class_weight': 'balanced'}"
      ]
     },
     "execution_count": 45,
     "metadata": {},
     "output_type": "execute_result"
    }
   ],
   "source": [
    "params"
   ]
  },
  {
   "cell_type": "code",
   "execution_count": 46,
   "id": "17fd8f41",
   "metadata": {},
   "outputs": [],
   "source": [
    "lgbm_classifier = lgb.LGBMClassifier(**params)"
   ]
  },
  {
   "cell_type": "code",
   "execution_count": 47,
   "id": "9a40a635",
   "metadata": {},
   "outputs": [
    {
     "data": {
      "text/html": [
       "<style>#sk-container-id-4 {color: black;}#sk-container-id-4 pre{padding: 0;}#sk-container-id-4 div.sk-toggleable {background-color: white;}#sk-container-id-4 label.sk-toggleable__label {cursor: pointer;display: block;width: 100%;margin-bottom: 0;padding: 0.3em;box-sizing: border-box;text-align: center;}#sk-container-id-4 label.sk-toggleable__label-arrow:before {content: \"▸\";float: left;margin-right: 0.25em;color: #696969;}#sk-container-id-4 label.sk-toggleable__label-arrow:hover:before {color: black;}#sk-container-id-4 div.sk-estimator:hover label.sk-toggleable__label-arrow:before {color: black;}#sk-container-id-4 div.sk-toggleable__content {max-height: 0;max-width: 0;overflow: hidden;text-align: left;background-color: #f0f8ff;}#sk-container-id-4 div.sk-toggleable__content pre {margin: 0.2em;color: black;border-radius: 0.25em;background-color: #f0f8ff;}#sk-container-id-4 input.sk-toggleable__control:checked~div.sk-toggleable__content {max-height: 200px;max-width: 100%;overflow: auto;}#sk-container-id-4 input.sk-toggleable__control:checked~label.sk-toggleable__label-arrow:before {content: \"▾\";}#sk-container-id-4 div.sk-estimator input.sk-toggleable__control:checked~label.sk-toggleable__label {background-color: #d4ebff;}#sk-container-id-4 div.sk-label input.sk-toggleable__control:checked~label.sk-toggleable__label {background-color: #d4ebff;}#sk-container-id-4 input.sk-hidden--visually {border: 0;clip: rect(1px 1px 1px 1px);clip: rect(1px, 1px, 1px, 1px);height: 1px;margin: -1px;overflow: hidden;padding: 0;position: absolute;width: 1px;}#sk-container-id-4 div.sk-estimator {font-family: monospace;background-color: #f0f8ff;border: 1px dotted black;border-radius: 0.25em;box-sizing: border-box;margin-bottom: 0.5em;}#sk-container-id-4 div.sk-estimator:hover {background-color: #d4ebff;}#sk-container-id-4 div.sk-parallel-item::after {content: \"\";width: 100%;border-bottom: 1px solid gray;flex-grow: 1;}#sk-container-id-4 div.sk-label:hover label.sk-toggleable__label {background-color: #d4ebff;}#sk-container-id-4 div.sk-serial::before {content: \"\";position: absolute;border-left: 1px solid gray;box-sizing: border-box;top: 0;bottom: 0;left: 50%;z-index: 0;}#sk-container-id-4 div.sk-serial {display: flex;flex-direction: column;align-items: center;background-color: white;padding-right: 0.2em;padding-left: 0.2em;position: relative;}#sk-container-id-4 div.sk-item {position: relative;z-index: 1;}#sk-container-id-4 div.sk-parallel {display: flex;align-items: stretch;justify-content: center;background-color: white;position: relative;}#sk-container-id-4 div.sk-item::before, #sk-container-id-4 div.sk-parallel-item::before {content: \"\";position: absolute;border-left: 1px solid gray;box-sizing: border-box;top: 0;bottom: 0;left: 50%;z-index: -1;}#sk-container-id-4 div.sk-parallel-item {display: flex;flex-direction: column;z-index: 1;position: relative;background-color: white;}#sk-container-id-4 div.sk-parallel-item:first-child::after {align-self: flex-end;width: 50%;}#sk-container-id-4 div.sk-parallel-item:last-child::after {align-self: flex-start;width: 50%;}#sk-container-id-4 div.sk-parallel-item:only-child::after {width: 0;}#sk-container-id-4 div.sk-dashed-wrapped {border: 1px dashed gray;margin: 0 0.4em 0.5em 0.4em;box-sizing: border-box;padding-bottom: 0.4em;background-color: white;}#sk-container-id-4 div.sk-label label {font-family: monospace;font-weight: bold;display: inline-block;line-height: 1.2em;}#sk-container-id-4 div.sk-label-container {text-align: center;}#sk-container-id-4 div.sk-container {/* jupyter's `normalize.less` sets `[hidden] { display: none; }` but bootstrap.min.css set `[hidden] { display: none !important; }` so we also need the `!important` here to be able to override the default hidden behavior on the sphinx rendered scikit-learn.org. See: https://github.com/scikit-learn/scikit-learn/issues/21755 */display: inline-block !important;position: relative;}#sk-container-id-4 div.sk-text-repr-fallback {display: none;}</style><div id=\"sk-container-id-4\" class=\"sk-top-container\"><div class=\"sk-text-repr-fallback\"><pre>LGBMClassifier(class_weight=&#x27;balanced&#x27;, colsample_bytree=0.9699757027264854,\n",
       "               learning_rate=0.02665178267592029, max_depth=8,\n",
       "               min_child_samples=51, min_child_weight=4.96056099791858e-05,\n",
       "               n_estimators=370, num_leaves=20, random_state=42,\n",
       "               reg_alpha=0.2530448808905445, reg_lambda=0.3564681990235679,\n",
       "               subsample=0.9268528239990959)</pre><b>In a Jupyter environment, please rerun this cell to show the HTML representation or trust the notebook. <br />On GitHub, the HTML representation is unable to render, please try loading this page with nbviewer.org.</b></div><div class=\"sk-container\" hidden><div class=\"sk-item\"><div class=\"sk-estimator sk-toggleable\"><input class=\"sk-toggleable__control sk-hidden--visually\" id=\"sk-estimator-id-4\" type=\"checkbox\" checked><label for=\"sk-estimator-id-4\" class=\"sk-toggleable__label sk-toggleable__label-arrow\">LGBMClassifier</label><div class=\"sk-toggleable__content\"><pre>LGBMClassifier(class_weight=&#x27;balanced&#x27;, colsample_bytree=0.9699757027264854,\n",
       "               learning_rate=0.02665178267592029, max_depth=8,\n",
       "               min_child_samples=51, min_child_weight=4.96056099791858e-05,\n",
       "               n_estimators=370, num_leaves=20, random_state=42,\n",
       "               reg_alpha=0.2530448808905445, reg_lambda=0.3564681990235679,\n",
       "               subsample=0.9268528239990959)</pre></div></div></div></div></div>"
      ],
      "text/plain": [
       "LGBMClassifier(class_weight='balanced', colsample_bytree=0.9699757027264854,\n",
       "               learning_rate=0.02665178267592029, max_depth=8,\n",
       "               min_child_samples=51, min_child_weight=4.96056099791858e-05,\n",
       "               n_estimators=370, num_leaves=20, random_state=42,\n",
       "               reg_alpha=0.2530448808905445, reg_lambda=0.3564681990235679,\n",
       "               subsample=0.9268528239990959)"
      ]
     },
     "execution_count": 47,
     "metadata": {},
     "output_type": "execute_result"
    }
   ],
   "source": [
    "lgbm_classifier"
   ]
  },
  {
   "cell_type": "code",
   "execution_count": 48,
   "id": "c6bccdcb",
   "metadata": {},
   "outputs": [
    {
     "data": {
      "text/html": [
       "<style>#sk-container-id-5 {color: black;}#sk-container-id-5 pre{padding: 0;}#sk-container-id-5 div.sk-toggleable {background-color: white;}#sk-container-id-5 label.sk-toggleable__label {cursor: pointer;display: block;width: 100%;margin-bottom: 0;padding: 0.3em;box-sizing: border-box;text-align: center;}#sk-container-id-5 label.sk-toggleable__label-arrow:before {content: \"▸\";float: left;margin-right: 0.25em;color: #696969;}#sk-container-id-5 label.sk-toggleable__label-arrow:hover:before {color: black;}#sk-container-id-5 div.sk-estimator:hover label.sk-toggleable__label-arrow:before {color: black;}#sk-container-id-5 div.sk-toggleable__content {max-height: 0;max-width: 0;overflow: hidden;text-align: left;background-color: #f0f8ff;}#sk-container-id-5 div.sk-toggleable__content pre {margin: 0.2em;color: black;border-radius: 0.25em;background-color: #f0f8ff;}#sk-container-id-5 input.sk-toggleable__control:checked~div.sk-toggleable__content {max-height: 200px;max-width: 100%;overflow: auto;}#sk-container-id-5 input.sk-toggleable__control:checked~label.sk-toggleable__label-arrow:before {content: \"▾\";}#sk-container-id-5 div.sk-estimator input.sk-toggleable__control:checked~label.sk-toggleable__label {background-color: #d4ebff;}#sk-container-id-5 div.sk-label input.sk-toggleable__control:checked~label.sk-toggleable__label {background-color: #d4ebff;}#sk-container-id-5 input.sk-hidden--visually {border: 0;clip: rect(1px 1px 1px 1px);clip: rect(1px, 1px, 1px, 1px);height: 1px;margin: -1px;overflow: hidden;padding: 0;position: absolute;width: 1px;}#sk-container-id-5 div.sk-estimator {font-family: monospace;background-color: #f0f8ff;border: 1px dotted black;border-radius: 0.25em;box-sizing: border-box;margin-bottom: 0.5em;}#sk-container-id-5 div.sk-estimator:hover {background-color: #d4ebff;}#sk-container-id-5 div.sk-parallel-item::after {content: \"\";width: 100%;border-bottom: 1px solid gray;flex-grow: 1;}#sk-container-id-5 div.sk-label:hover label.sk-toggleable__label {background-color: #d4ebff;}#sk-container-id-5 div.sk-serial::before {content: \"\";position: absolute;border-left: 1px solid gray;box-sizing: border-box;top: 0;bottom: 0;left: 50%;z-index: 0;}#sk-container-id-5 div.sk-serial {display: flex;flex-direction: column;align-items: center;background-color: white;padding-right: 0.2em;padding-left: 0.2em;position: relative;}#sk-container-id-5 div.sk-item {position: relative;z-index: 1;}#sk-container-id-5 div.sk-parallel {display: flex;align-items: stretch;justify-content: center;background-color: white;position: relative;}#sk-container-id-5 div.sk-item::before, #sk-container-id-5 div.sk-parallel-item::before {content: \"\";position: absolute;border-left: 1px solid gray;box-sizing: border-box;top: 0;bottom: 0;left: 50%;z-index: -1;}#sk-container-id-5 div.sk-parallel-item {display: flex;flex-direction: column;z-index: 1;position: relative;background-color: white;}#sk-container-id-5 div.sk-parallel-item:first-child::after {align-self: flex-end;width: 50%;}#sk-container-id-5 div.sk-parallel-item:last-child::after {align-self: flex-start;width: 50%;}#sk-container-id-5 div.sk-parallel-item:only-child::after {width: 0;}#sk-container-id-5 div.sk-dashed-wrapped {border: 1px dashed gray;margin: 0 0.4em 0.5em 0.4em;box-sizing: border-box;padding-bottom: 0.4em;background-color: white;}#sk-container-id-5 div.sk-label label {font-family: monospace;font-weight: bold;display: inline-block;line-height: 1.2em;}#sk-container-id-5 div.sk-label-container {text-align: center;}#sk-container-id-5 div.sk-container {/* jupyter's `normalize.less` sets `[hidden] { display: none; }` but bootstrap.min.css set `[hidden] { display: none !important; }` so we also need the `!important` here to be able to override the default hidden behavior on the sphinx rendered scikit-learn.org. See: https://github.com/scikit-learn/scikit-learn/issues/21755 */display: inline-block !important;position: relative;}#sk-container-id-5 div.sk-text-repr-fallback {display: none;}</style><div id=\"sk-container-id-5\" class=\"sk-top-container\"><div class=\"sk-text-repr-fallback\"><pre>LGBMClassifier(class_weight=&#x27;balanced&#x27;, colsample_bytree=0.9699757027264854,\n",
       "               learning_rate=0.02665178267592029, max_depth=8,\n",
       "               min_child_samples=51, min_child_weight=4.96056099791858e-05,\n",
       "               n_estimators=370, num_leaves=20, random_state=42,\n",
       "               reg_alpha=0.2530448808905445, reg_lambda=0.3564681990235679,\n",
       "               subsample=0.9268528239990959)</pre><b>In a Jupyter environment, please rerun this cell to show the HTML representation or trust the notebook. <br />On GitHub, the HTML representation is unable to render, please try loading this page with nbviewer.org.</b></div><div class=\"sk-container\" hidden><div class=\"sk-item\"><div class=\"sk-estimator sk-toggleable\"><input class=\"sk-toggleable__control sk-hidden--visually\" id=\"sk-estimator-id-5\" type=\"checkbox\" checked><label for=\"sk-estimator-id-5\" class=\"sk-toggleable__label sk-toggleable__label-arrow\">LGBMClassifier</label><div class=\"sk-toggleable__content\"><pre>LGBMClassifier(class_weight=&#x27;balanced&#x27;, colsample_bytree=0.9699757027264854,\n",
       "               learning_rate=0.02665178267592029, max_depth=8,\n",
       "               min_child_samples=51, min_child_weight=4.96056099791858e-05,\n",
       "               n_estimators=370, num_leaves=20, random_state=42,\n",
       "               reg_alpha=0.2530448808905445, reg_lambda=0.3564681990235679,\n",
       "               subsample=0.9268528239990959)</pre></div></div></div></div></div>"
      ],
      "text/plain": [
       "LGBMClassifier(class_weight='balanced', colsample_bytree=0.9699757027264854,\n",
       "               learning_rate=0.02665178267592029, max_depth=8,\n",
       "               min_child_samples=51, min_child_weight=4.96056099791858e-05,\n",
       "               n_estimators=370, num_leaves=20, random_state=42,\n",
       "               reg_alpha=0.2530448808905445, reg_lambda=0.3564681990235679,\n",
       "               subsample=0.9268528239990959)"
      ]
     },
     "execution_count": 48,
     "metadata": {},
     "output_type": "execute_result"
    }
   ],
   "source": [
    "lgbm_classifier.fit(X_train, y_train)"
   ]
  },
  {
   "cell_type": "code",
   "execution_count": 49,
   "id": "9ce62bc2",
   "metadata": {},
   "outputs": [],
   "source": [
    "y_pred = lgbm_classifier.predict(X_test)"
   ]
  },
  {
   "cell_type": "code",
   "execution_count": 50,
   "id": "8519aece",
   "metadata": {},
   "outputs": [],
   "source": [
    "y_pred_proba = lgbm_classifier.predict_proba(X_test)[:, 1]"
   ]
  },
  {
   "cell_type": "code",
   "execution_count": 51,
   "id": "001a0db2",
   "metadata": {},
   "outputs": [],
   "source": [
    "# Calculate metrics\n",
    "accuracy = accuracy_score(y_test, y_pred)\n",
    "precision = precision_score(y_test, y_pred)\n",
    "recall = recall_score(y_test, y_pred)\n",
    "f1 = f1_score(y_test, y_pred)\n",
    "roc_auc = roc_auc_score(y_test, y_pred_proba)"
   ]
  },
  {
   "cell_type": "code",
   "execution_count": 52,
   "id": "9cb14d72",
   "metadata": {},
   "outputs": [
    {
     "name": "stdout",
     "output_type": "stream",
     "text": [
      "Accuracy: 0.5967428183668854\n",
      "Precision: 0.31274196263255344\n",
      "Recall: 0.8324372759856631\n",
      "F1 Score: 0.454667808638199\n",
      "ROC AUC Score: 0.7418894962330136\n"
     ]
    }
   ],
   "source": [
    "# Print the metrics\n",
    "print(f\"Accuracy: {accuracy}\")\n",
    "print(f\"Precision: {precision}\")\n",
    "print(f\"Recall: {recall}\")\n",
    "print(f\"F1 Score: {f1}\")\n",
    "print(f\"ROC AUC Score: {roc_auc}\")"
   ]
  },
  {
   "cell_type": "code",
   "execution_count": null,
   "id": "37add3b7",
   "metadata": {},
   "outputs": [],
   "source": []
  },
  {
   "cell_type": "markdown",
   "id": "c69533ea",
   "metadata": {},
   "source": [
    "Let's consider the following business case: Hospitals may introduce overbooking (2 patients for the same slot) for appointments with a high likelihood of a no-show. Precision should be 75% or higher while keeping up the recall as high as possible. Please provide the corresponding code. "
   ]
  },
  {
   "cell_type": "code",
   "execution_count": 53,
   "id": "07e11c94",
   "metadata": {},
   "outputs": [],
   "source": [
    "import numpy as np\n",
    "from sklearn.metrics import precision_recall_curve"
   ]
  },
  {
   "cell_type": "code",
   "execution_count": 54,
   "id": "c791562c",
   "metadata": {},
   "outputs": [],
   "source": [
    "# Assuming model is your optimized LightGBM model and X_test is your test set\n",
    "y_pred_proba = lgbm_classifier.predict_proba(X_test)[:, 1]"
   ]
  },
  {
   "cell_type": "code",
   "execution_count": 55,
   "id": "674f2d44",
   "metadata": {},
   "outputs": [],
   "source": [
    "# Calculate precision-recall pairs for different probability thresholds\n",
    "precision, recall, thresholds = precision_recall_curve(y_test, y_pred_proba)"
   ]
  },
  {
   "cell_type": "code",
   "execution_count": 56,
   "id": "a7c28ce0",
   "metadata": {},
   "outputs": [],
   "source": [
    "# Find the threshold that is closest to your desired precision\n",
    "target_precision = 0.75\n",
    "closest_precision_idx = np.argmin(np.abs(precision - target_precision))\n",
    "selected_threshold = thresholds[closest_precision_idx]"
   ]
  },
  {
   "cell_type": "code",
   "execution_count": 57,
   "id": "fe57c594",
   "metadata": {},
   "outputs": [],
   "source": [
    "# Adjust the threshold based on your precision requirement\n",
    "y_pred_adjusted = (y_pred_proba >= selected_threshold).astype(int)"
   ]
  },
  {
   "cell_type": "code",
   "execution_count": 58,
   "id": "705269ed",
   "metadata": {},
   "outputs": [],
   "source": [
    "# Recalculate metrics\n",
    "adjusted_precision = precision_score(y_test, y_pred_adjusted)\n",
    "adjusted_recall = recall_score(y_test, y_pred_adjusted)\n",
    "adjusted_accuracy = accuracy_score(y_test, y_pred_adjusted)\n",
    "adjusted_f1 = f1_score(y_test, y_pred_adjusted)"
   ]
  },
  {
   "cell_type": "code",
   "execution_count": 59,
   "id": "490b0e7a",
   "metadata": {},
   "outputs": [
    {
     "name": "stdout",
     "output_type": "stream",
     "text": [
      "Selected Threshold: 0.8524304906735681\n",
      "Adjusted Accuracy: 0.8005881022393124\n",
      "Adjusted Precision: 0.75\n",
      "Adjusted Recall: 0.01881720430107527\n",
      "Adjusted F1 Score: 0.03671328671328672\n"
     ]
    }
   ],
   "source": [
    "# Print the new metrics and selected threshold\n",
    "print(f\"Selected Threshold: {selected_threshold}\")\n",
    "print(f\"Adjusted Accuracy: {adjusted_accuracy}\")\n",
    "print(f\"Adjusted Precision: {adjusted_precision}\")\n",
    "print(f\"Adjusted Recall: {adjusted_recall}\")\n",
    "print(f\"Adjusted F1 Score: {adjusted_f1}\")"
   ]
  },
  {
   "cell_type": "code",
   "execution_count": null,
   "id": "042a8d4d",
   "metadata": {},
   "outputs": [],
   "source": []
  },
  {
   "cell_type": "markdown",
   "id": "81154cb1",
   "metadata": {},
   "source": [
    "### Feature Importance"
   ]
  },
  {
   "cell_type": "code",
   "execution_count": 60,
   "id": "3ef19d22",
   "metadata": {},
   "outputs": [],
   "source": [
    "import matplotlib.pyplot as plt"
   ]
  },
  {
   "cell_type": "code",
   "execution_count": 61,
   "id": "77e2522e",
   "metadata": {},
   "outputs": [],
   "source": [
    "# Assuming lgbm_classifier is your trained LightGBM model\n",
    "feature_importances = lgbm_classifier.feature_importances_"
   ]
  },
  {
   "cell_type": "code",
   "execution_count": 62,
   "id": "bf378e31",
   "metadata": {},
   "outputs": [
    {
     "data": {
      "text/plain": [
       "array([ 308, 2546,  253,  153,  111,   99,  152,  118, 1729,  404,  653,\n",
       "        122,   43,  339], dtype=int32)"
      ]
     },
     "execution_count": 62,
     "metadata": {},
     "output_type": "execute_result"
    }
   ],
   "source": [
    "feature_importances"
   ]
  },
  {
   "cell_type": "code",
   "execution_count": 63,
   "id": "b5c04e71",
   "metadata": {},
   "outputs": [],
   "source": [
    "# Assuming X_train is your features DataFrame\n",
    "feature_names = X_train.columns.values"
   ]
  },
  {
   "cell_type": "code",
   "execution_count": 64,
   "id": "ba1fd244",
   "metadata": {},
   "outputs": [
    {
     "data": {
      "text/plain": [
       "array(['SMSreceived', 'Age', 'GenderM', 'Scholarship', 'Hipertension',\n",
       "       'Diabetes', 'Alcoholism', 'Handcap', 'TimeGapDays', 'prevNoshow',\n",
       "       'WeekDay', 'AgeCategory', 'WaitingTimeCategory', 'TotalConditions'],\n",
       "      dtype=object)"
      ]
     },
     "execution_count": 64,
     "metadata": {},
     "output_type": "execute_result"
    }
   ],
   "source": [
    "feature_names"
   ]
  },
  {
   "cell_type": "code",
   "execution_count": 65,
   "id": "4f2fb345",
   "metadata": {},
   "outputs": [],
   "source": [
    "# Create a DataFrame to hold the feature names and their importance scores\n",
    "feature_importance_df = pd.DataFrame({'Feature Name': feature_names, 'Importance': feature_importances})"
   ]
  },
  {
   "cell_type": "code",
   "execution_count": 66,
   "id": "e077ff6b",
   "metadata": {},
   "outputs": [
    {
     "data": {
      "text/html": [
       "<div>\n",
       "<style scoped>\n",
       "    .dataframe tbody tr th:only-of-type {\n",
       "        vertical-align: middle;\n",
       "    }\n",
       "\n",
       "    .dataframe tbody tr th {\n",
       "        vertical-align: top;\n",
       "    }\n",
       "\n",
       "    .dataframe thead th {\n",
       "        text-align: right;\n",
       "    }\n",
       "</style>\n",
       "<table border=\"1\" class=\"dataframe\">\n",
       "  <thead>\n",
       "    <tr style=\"text-align: right;\">\n",
       "      <th></th>\n",
       "      <th>Feature Name</th>\n",
       "      <th>Importance</th>\n",
       "    </tr>\n",
       "  </thead>\n",
       "  <tbody>\n",
       "    <tr>\n",
       "      <th>0</th>\n",
       "      <td>SMSreceived</td>\n",
       "      <td>308</td>\n",
       "    </tr>\n",
       "    <tr>\n",
       "      <th>1</th>\n",
       "      <td>Age</td>\n",
       "      <td>2546</td>\n",
       "    </tr>\n",
       "    <tr>\n",
       "      <th>2</th>\n",
       "      <td>GenderM</td>\n",
       "      <td>253</td>\n",
       "    </tr>\n",
       "    <tr>\n",
       "      <th>3</th>\n",
       "      <td>Scholarship</td>\n",
       "      <td>153</td>\n",
       "    </tr>\n",
       "    <tr>\n",
       "      <th>4</th>\n",
       "      <td>Hipertension</td>\n",
       "      <td>111</td>\n",
       "    </tr>\n",
       "    <tr>\n",
       "      <th>5</th>\n",
       "      <td>Diabetes</td>\n",
       "      <td>99</td>\n",
       "    </tr>\n",
       "    <tr>\n",
       "      <th>6</th>\n",
       "      <td>Alcoholism</td>\n",
       "      <td>152</td>\n",
       "    </tr>\n",
       "    <tr>\n",
       "      <th>7</th>\n",
       "      <td>Handcap</td>\n",
       "      <td>118</td>\n",
       "    </tr>\n",
       "    <tr>\n",
       "      <th>8</th>\n",
       "      <td>TimeGapDays</td>\n",
       "      <td>1729</td>\n",
       "    </tr>\n",
       "    <tr>\n",
       "      <th>9</th>\n",
       "      <td>prevNoshow</td>\n",
       "      <td>404</td>\n",
       "    </tr>\n",
       "    <tr>\n",
       "      <th>10</th>\n",
       "      <td>WeekDay</td>\n",
       "      <td>653</td>\n",
       "    </tr>\n",
       "    <tr>\n",
       "      <th>11</th>\n",
       "      <td>AgeCategory</td>\n",
       "      <td>122</td>\n",
       "    </tr>\n",
       "    <tr>\n",
       "      <th>12</th>\n",
       "      <td>WaitingTimeCategory</td>\n",
       "      <td>43</td>\n",
       "    </tr>\n",
       "    <tr>\n",
       "      <th>13</th>\n",
       "      <td>TotalConditions</td>\n",
       "      <td>339</td>\n",
       "    </tr>\n",
       "  </tbody>\n",
       "</table>\n",
       "</div>"
      ],
      "text/plain": [
       "           Feature Name  Importance\n",
       "0           SMSreceived         308\n",
       "1                   Age        2546\n",
       "2               GenderM         253\n",
       "3           Scholarship         153\n",
       "4          Hipertension         111\n",
       "5              Diabetes          99\n",
       "6            Alcoholism         152\n",
       "7               Handcap         118\n",
       "8           TimeGapDays        1729\n",
       "9            prevNoshow         404\n",
       "10              WeekDay         653\n",
       "11          AgeCategory         122\n",
       "12  WaitingTimeCategory          43\n",
       "13      TotalConditions         339"
      ]
     },
     "execution_count": 66,
     "metadata": {},
     "output_type": "execute_result"
    }
   ],
   "source": [
    "feature_importance_df"
   ]
  },
  {
   "cell_type": "code",
   "execution_count": 67,
   "id": "6b1a73b1",
   "metadata": {},
   "outputs": [],
   "source": [
    "# Sort the DataFrame by importance\n",
    "feature_importance_df = feature_importance_df.sort_values(by='Importance', ascending=False)"
   ]
  },
  {
   "cell_type": "code",
   "execution_count": 68,
   "id": "910f009e",
   "metadata": {},
   "outputs": [
    {
     "data": {
      "text/html": [
       "<div>\n",
       "<style scoped>\n",
       "    .dataframe tbody tr th:only-of-type {\n",
       "        vertical-align: middle;\n",
       "    }\n",
       "\n",
       "    .dataframe tbody tr th {\n",
       "        vertical-align: top;\n",
       "    }\n",
       "\n",
       "    .dataframe thead th {\n",
       "        text-align: right;\n",
       "    }\n",
       "</style>\n",
       "<table border=\"1\" class=\"dataframe\">\n",
       "  <thead>\n",
       "    <tr style=\"text-align: right;\">\n",
       "      <th></th>\n",
       "      <th>Feature Name</th>\n",
       "      <th>Importance</th>\n",
       "    </tr>\n",
       "  </thead>\n",
       "  <tbody>\n",
       "    <tr>\n",
       "      <th>1</th>\n",
       "      <td>Age</td>\n",
       "      <td>2546</td>\n",
       "    </tr>\n",
       "    <tr>\n",
       "      <th>8</th>\n",
       "      <td>TimeGapDays</td>\n",
       "      <td>1729</td>\n",
       "    </tr>\n",
       "    <tr>\n",
       "      <th>10</th>\n",
       "      <td>WeekDay</td>\n",
       "      <td>653</td>\n",
       "    </tr>\n",
       "    <tr>\n",
       "      <th>9</th>\n",
       "      <td>prevNoshow</td>\n",
       "      <td>404</td>\n",
       "    </tr>\n",
       "    <tr>\n",
       "      <th>13</th>\n",
       "      <td>TotalConditions</td>\n",
       "      <td>339</td>\n",
       "    </tr>\n",
       "    <tr>\n",
       "      <th>0</th>\n",
       "      <td>SMSreceived</td>\n",
       "      <td>308</td>\n",
       "    </tr>\n",
       "    <tr>\n",
       "      <th>2</th>\n",
       "      <td>GenderM</td>\n",
       "      <td>253</td>\n",
       "    </tr>\n",
       "    <tr>\n",
       "      <th>3</th>\n",
       "      <td>Scholarship</td>\n",
       "      <td>153</td>\n",
       "    </tr>\n",
       "    <tr>\n",
       "      <th>6</th>\n",
       "      <td>Alcoholism</td>\n",
       "      <td>152</td>\n",
       "    </tr>\n",
       "    <tr>\n",
       "      <th>11</th>\n",
       "      <td>AgeCategory</td>\n",
       "      <td>122</td>\n",
       "    </tr>\n",
       "    <tr>\n",
       "      <th>7</th>\n",
       "      <td>Handcap</td>\n",
       "      <td>118</td>\n",
       "    </tr>\n",
       "    <tr>\n",
       "      <th>4</th>\n",
       "      <td>Hipertension</td>\n",
       "      <td>111</td>\n",
       "    </tr>\n",
       "    <tr>\n",
       "      <th>5</th>\n",
       "      <td>Diabetes</td>\n",
       "      <td>99</td>\n",
       "    </tr>\n",
       "    <tr>\n",
       "      <th>12</th>\n",
       "      <td>WaitingTimeCategory</td>\n",
       "      <td>43</td>\n",
       "    </tr>\n",
       "  </tbody>\n",
       "</table>\n",
       "</div>"
      ],
      "text/plain": [
       "           Feature Name  Importance\n",
       "1                   Age        2546\n",
       "8           TimeGapDays        1729\n",
       "10              WeekDay         653\n",
       "9            prevNoshow         404\n",
       "13      TotalConditions         339\n",
       "0           SMSreceived         308\n",
       "2               GenderM         253\n",
       "3           Scholarship         153\n",
       "6            Alcoholism         152\n",
       "11          AgeCategory         122\n",
       "7               Handcap         118\n",
       "4          Hipertension         111\n",
       "5              Diabetes          99\n",
       "12  WaitingTimeCategory          43"
      ]
     },
     "execution_count": 68,
     "metadata": {},
     "output_type": "execute_result"
    }
   ],
   "source": [
    "feature_importance_df"
   ]
  },
  {
   "cell_type": "code",
   "execution_count": 69,
   "id": "b3b576c0",
   "metadata": {},
   "outputs": [
    {
     "data": {
      "image/png": "[encoded data removed]",
      "text/plain": [
       "<Figure size 1000x600 with 1 Axes>"
      ]
     },
     "metadata": {},
     "output_type": "display_data"
    }
   ],
   "source": [
    "# Plotting feature importances\n",
    "plt.figure(figsize=(10, 6))\n",
    "plt.title('Feature Importances')\n",
    "plt.barh(feature_importance_df['Feature Name'], feature_importance_df['Importance'])\n",
    "plt.xlabel('Importance')\n",
    "plt.ylabel('Feature Name')\n",
    "plt.gca().invert_yaxis()  # Invert y-axis to have the most important feature on top\n",
    "plt.show()"
   ]
  },
  {
   "cell_type": "code",
   "execution_count": null,
   "id": "b91a22b2",
   "metadata": {},
   "outputs": [],
   "source": []
  }
 ],
 "metadata": {
  "kernelspec": {
   "display_name": "Python 3 (ipykernel)",
   "language": "python",
   "name": "python3"
  },
  "language_info": {
   "codemirror_mode": {
    "name": "ipython",
    "version": 3
   },
   "file_extension": ".py",
   "mimetype": "text/x-python",
   "name": "python",
   "nbconvert_exporter": "python",
   "pygments_lexer": "ipython3",
   "version": "3.11.5"
  }
 },
 "nbformat": 4,
 "nbformat_minor": 5
}
